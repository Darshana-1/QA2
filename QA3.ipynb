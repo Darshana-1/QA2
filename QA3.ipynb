{
 "cells": [
  {
   "cell_type": "code",
   "execution_count": null,
   "id": "e90c97bf",
   "metadata": {},
   "outputs": [],
   "source": [
    "Q.1."
   ]
  },
  {
   "cell_type": "code",
   "execution_count": 5,
   "id": "1dc29599",
   "metadata": {},
   "outputs": [
    {
     "name": "stdout",
     "output_type": "stream",
     "text": [
      "Enter next rating(1-5),-1 for done3\n",
      "Enter next rating(1-5),-1 for done4\n",
      "Enter next rating(1-5),-1 for done2\n",
      "Enter next rating(1-5),-1 for done1\n",
      "Enter next rating(1-5),-1 for done5\n",
      "Enter next rating(1-5),-1 for done-1\n",
      "The average star rating for new coffee is:0.00\n"
     ]
    }
   ],
   "source": [
    "sum=count=done=0\n",
    "average=0.0\n",
    "while(done!=-1):\n",
    "    rating=float(input('Enter next rating(1-5),-1 for done'))\n",
    "    if rating==-1:\n",
    "        break\n",
    "    sum+=rating\n",
    "    count+=1\n",
    "aveage=float(sum/count)\n",
    "print('The average star rating for new coffee is:{:.2f}'.format(average)) "
   ]
  },
  {
   "cell_type": "code",
   "execution_count": 8,
   "id": "34a94391",
   "metadata": {},
   "outputs": [
    {
     "name": "stdout",
     "output_type": "stream",
     "text": [
      "Enter next rating(1-5),-1 for done6\n",
      "Enter next rating(1-5),-1 for done4\n",
      "Enter next rating(1-5),-1 for done78\n",
      "Enter next rating(1-5),-1 for done-7\n",
      "Enter next rating(1-5),-1 for done0\n",
      "Enter next rating(1-5),-1 for done0.0\n",
      "Enter next rating(1-5),-1 for done0.85\n",
      "Enter next rating(1-5),-1 for done-1\n",
      "The average star rating for new coffee is:0.000000\n"
     ]
    }
   ],
   "source": [
    "sum=count=done=0\n",
    "average=0.0\n",
    "while(done!=-1):\n",
    "    rating=float(input('Enter next rating(1-5),-1 for done'))\n",
    "    if rating==-1:\n",
    "        break\n",
    "    sum+=rating\n",
    "    count+=1\n",
    "aveage=float(sum/count)\n",
    "print('The average star rating for new coffee is:{:2f}'.format(average)) "
   ]
  },
  {
   "cell_type": "code",
   "execution_count": 12,
   "id": "25fe52aa",
   "metadata": {},
   "outputs": [
    {
     "name": "stdout",
     "output_type": "stream",
     "text": [
      "Enter next rating(1-5),-1 for done32\n",
      "Enter next rating(1-5),-1 for done56\n",
      "Enter next rating(1-5),-1 for done-78\n",
      "Enter next rating(1-5),-1 for done-11\n",
      "Enter next rating(1-5),-1 for done-1\n"
     ]
    },
    {
     "ename": "ValueError",
     "evalue": "Unknown format code 'd' for object of type 'float'",
     "output_type": "error",
     "traceback": [
      "\u001b[1;31m---------------------------------------------------------------------------\u001b[0m",
      "\u001b[1;31mValueError\u001b[0m                                Traceback (most recent call last)",
      "\u001b[1;32m~\\AppData\\Local\\Temp/ipykernel_10420/1944511705.py\u001b[0m in \u001b[0;36m<module>\u001b[1;34m\u001b[0m\n\u001b[0;32m      8\u001b[0m     \u001b[0mcount\u001b[0m\u001b[1;33m+=\u001b[0m\u001b[1;36m1\u001b[0m\u001b[1;33m\u001b[0m\u001b[1;33m\u001b[0m\u001b[0m\n\u001b[0;32m      9\u001b[0m \u001b[0maveage\u001b[0m\u001b[1;33m=\u001b[0m\u001b[0mfloat\u001b[0m\u001b[1;33m(\u001b[0m\u001b[0msum\u001b[0m\u001b[1;33m/\u001b[0m\u001b[0mcount\u001b[0m\u001b[1;33m)\u001b[0m\u001b[1;33m\u001b[0m\u001b[1;33m\u001b[0m\u001b[0m\n\u001b[1;32m---> 10\u001b[1;33m \u001b[0mprint\u001b[0m\u001b[1;33m(\u001b[0m\u001b[1;34m'The average star rating for new coffee is:{:.2d}'\u001b[0m\u001b[1;33m.\u001b[0m\u001b[0mformat\u001b[0m\u001b[1;33m(\u001b[0m\u001b[0maverage\u001b[0m\u001b[1;33m)\u001b[0m\u001b[1;33m)\u001b[0m\u001b[1;33m\u001b[0m\u001b[1;33m\u001b[0m\u001b[0m\n\u001b[0m",
      "\u001b[1;31mValueError\u001b[0m: Unknown format code 'd' for object of type 'float'"
     ]
    }
   ],
   "source": [
    "sum=count=done=0\n",
    "average=0.0\n",
    "while(done!=-1):\n",
    "    rating=float(input('Enter next rating(1-5),-1 for done'))\n",
    "    if rating==-1:\n",
    "        break\n",
    "    sum+=rating\n",
    "    count+=1\n",
    "aveage=float(sum/count)\n",
    "print('The average star rating for new coffee is:{:.2d}'.format(average)) "
   ]
  },
  {
   "cell_type": "code",
   "execution_count": 14,
   "id": "08fda952",
   "metadata": {},
   "outputs": [
    {
     "name": "stdout",
     "output_type": "stream",
     "text": [
      "Enter next rating(1-5),-1 for done5\n",
      "Enter next rating(1-5),-1 for done35\n",
      "Enter next rating(1-5),-1 for done7676\n",
      "Enter next rating(1-5),-1 for done-354\n",
      "Enter next rating(1-5),-1 for done-1\n"
     ]
    },
    {
     "ename": "ValueError",
     "evalue": "Unknown format code 'd' for object of type 'float'",
     "output_type": "error",
     "traceback": [
      "\u001b[1;31m---------------------------------------------------------------------------\u001b[0m",
      "\u001b[1;31mValueError\u001b[0m                                Traceback (most recent call last)",
      "\u001b[1;32m~\\AppData\\Local\\Temp/ipykernel_10420/156603014.py\u001b[0m in \u001b[0;36m<module>\u001b[1;34m\u001b[0m\n\u001b[0;32m      8\u001b[0m     \u001b[0mcount\u001b[0m\u001b[1;33m+=\u001b[0m\u001b[1;36m1\u001b[0m\u001b[1;33m\u001b[0m\u001b[1;33m\u001b[0m\u001b[0m\n\u001b[0;32m      9\u001b[0m \u001b[0maveage\u001b[0m\u001b[1;33m=\u001b[0m\u001b[0mfloat\u001b[0m\u001b[1;33m(\u001b[0m\u001b[0msum\u001b[0m\u001b[1;33m/\u001b[0m\u001b[0mcount\u001b[0m\u001b[1;33m)\u001b[0m\u001b[1;33m\u001b[0m\u001b[1;33m\u001b[0m\u001b[0m\n\u001b[1;32m---> 10\u001b[1;33m \u001b[0mprint\u001b[0m\u001b[1;33m(\u001b[0m\u001b[1;34m'The average star rating for new coffee is:{:2.2d}'\u001b[0m\u001b[1;33m.\u001b[0m\u001b[0mformat\u001b[0m\u001b[1;33m(\u001b[0m\u001b[0maverage\u001b[0m\u001b[1;33m)\u001b[0m\u001b[1;33m)\u001b[0m\u001b[1;33m\u001b[0m\u001b[1;33m\u001b[0m\u001b[0m\n\u001b[0m",
      "\u001b[1;31mValueError\u001b[0m: Unknown format code 'd' for object of type 'float'"
     ]
    }
   ],
   "source": [
    "sum=count=done=0\n",
    "average=0.0\n",
    "while(done!=-1):\n",
    "    rating=float(input('Enter next rating(1-5),-1 for done'))\n",
    "    if rating==-1:\n",
    "        break\n",
    "    sum+=rating\n",
    "    count+=1\n",
    "aveage=float(sum/count)\n",
    "print('The average star rating for new coffee is:{:2.2d}'.format(average)) "
   ]
  },
  {
   "cell_type": "code",
   "execution_count": null,
   "id": "6eff629d",
   "metadata": {},
   "outputs": [],
   "source": [
    "Q.2."
   ]
  },
  {
   "cell_type": "code",
   "execution_count": null,
   "id": "7891254b",
   "metadata": {},
   "outputs": [],
   "source": [
    "print('v:{:.2f}'.format(123.45678)) will print to the console V:123.46 ## True\n",
    "print('v:{:.2f}'.format(123.4)) will print to the console V:123.40     ## True\n",
    "print('v:{:8.2f}'.format(1.45678)) will print to the console V:1.46  ## true\n",
    "print('v:{:08.2f}'.format(1.45678)) will print to the console V:00001.46 ##True"
   ]
  },
  {
   "cell_type": "code",
   "execution_count": 17,
   "id": "acc5a54a",
   "metadata": {},
   "outputs": [
    {
     "name": "stdout",
     "output_type": "stream",
     "text": [
      "v:123.46\n"
     ]
    }
   ],
   "source": [
    "print('v:{:.2f}'.format(123.45678)) "
   ]
  },
  {
   "cell_type": "code",
   "execution_count": 18,
   "id": "2bc71626",
   "metadata": {},
   "outputs": [
    {
     "name": "stdout",
     "output_type": "stream",
     "text": [
      "v:123.40\n"
     ]
    }
   ],
   "source": [
    "print('v:{:.2f}'.format(123.4))"
   ]
  },
  {
   "cell_type": "code",
   "execution_count": 21,
   "id": "295853ba",
   "metadata": {},
   "outputs": [
    {
     "name": "stdout",
     "output_type": "stream",
     "text": [
      "v:    1.46\n"
     ]
    }
   ],
   "source": [
    "print('v:{:8.2f}'.format(1.45678))"
   ]
  },
  {
   "cell_type": "code",
   "execution_count": 22,
   "id": "d19ee77c",
   "metadata": {},
   "outputs": [
    {
     "name": "stdout",
     "output_type": "stream",
     "text": [
      "v:00001.46\n"
     ]
    }
   ],
   "source": [
    "print('v:{:08.2f}'.format(1.45678))"
   ]
  },
  {
   "cell_type": "code",
   "execution_count": null,
   "id": "fa28ce6c",
   "metadata": {},
   "outputs": [],
   "source": []
  },
  {
   "cell_type": "code",
   "execution_count": null,
   "id": "2de08769",
   "metadata": {},
   "outputs": [],
   "source": [
    "Q.3."
   ]
  },
  {
   "cell_type": "code",
   "execution_count": 2,
   "id": "8748fdec",
   "metadata": {},
   "outputs": [
    {
     "name": "stdout",
     "output_type": "stream",
     "text": [
      "Enter your name:Sachin\n",
      "Enter your scores: -1 to end34\n",
      "Enter your scores: -1 to end27\n",
      "Enter your scores: -1 to end55\n",
      "Enter your scores: -1 to end1.3\n"
     ]
    },
    {
     "ename": "ValueError",
     "evalue": "invalid literal for int() with base 10: '1.3'",
     "output_type": "error",
     "traceback": [
      "\u001b[1;31m---------------------------------------------------------------------------\u001b[0m",
      "\u001b[1;31mValueError\u001b[0m                                Traceback (most recent call last)",
      "\u001b[1;32m~\\AppData\\Local\\Temp/ipykernel_9692/2446496948.py\u001b[0m in \u001b[0;36m<module>\u001b[1;34m\u001b[0m\n\u001b[0;32m      4\u001b[0m \u001b[0msum\u001b[0m\u001b[1;33m=\u001b[0m\u001b[1;36m0\u001b[0m\u001b[1;33m\u001b[0m\u001b[1;33m\u001b[0m\u001b[0m\n\u001b[0;32m      5\u001b[0m \u001b[1;32mwhile\u001b[0m \u001b[1;33m(\u001b[0m\u001b[0mscore\u001b[0m\u001b[1;33m!=\u001b[0m\u001b[1;33m-\u001b[0m\u001b[1;36m1\u001b[0m\u001b[1;33m)\u001b[0m\u001b[1;33m:\u001b[0m\u001b[1;33m\u001b[0m\u001b[1;33m\u001b[0m\u001b[0m\n\u001b[1;32m----> 6\u001b[1;33m     \u001b[0mscore\u001b[0m\u001b[1;33m=\u001b[0m\u001b[0mint\u001b[0m\u001b[1;33m(\u001b[0m\u001b[0minput\u001b[0m\u001b[1;33m(\u001b[0m\u001b[1;34m'Enter your scores: -1 to end'\u001b[0m\u001b[1;33m)\u001b[0m\u001b[1;33m)\u001b[0m\u001b[1;33m\u001b[0m\u001b[1;33m\u001b[0m\u001b[0m\n\u001b[0m\u001b[0;32m      7\u001b[0m     \u001b[1;32mif\u001b[0m \u001b[0mscore\u001b[0m\u001b[1;33m==\u001b[0m\u001b[1;33m-\u001b[0m\u001b[1;36m1\u001b[0m\u001b[1;33m:\u001b[0m\u001b[1;33m\u001b[0m\u001b[1;33m\u001b[0m\u001b[0m\n\u001b[0;32m      8\u001b[0m         \u001b[0msum\u001b[0m\u001b[1;33m+=\u001b[0m\u001b[0mscore\u001b[0m\u001b[1;33m\u001b[0m\u001b[1;33m\u001b[0m\u001b[0m\n",
      "\u001b[1;31mValueError\u001b[0m: invalid literal for int() with base 10: '1.3'"
     ]
    }
   ],
   "source": [
    "name=input('Enter your name:')\n",
    "score=0\n",
    "count=0\n",
    "sum=0\n",
    "while (score!=-1):\n",
    "    score=int(input('Enter your scores: -1 to end'))\n",
    "    if score==-1:\n",
    "        sum+=score\n",
    "        count+=1\n",
    "        average_score=sum/count\n",
    "print('%-20s,Your average score is: 4.1f'% (name,average_score))"
   ]
  },
  {
   "cell_type": "code",
   "execution_count": null,
   "id": "4b9e6f33",
   "metadata": {},
   "outputs": [],
   "source": [
    "Q.4."
   ]
  },
  {
   "cell_type": "code",
   "execution_count": 23,
   "id": "bd904d29",
   "metadata": {},
   "outputs": [
    {
     "name": "stdout",
     "output_type": "stream",
     "text": [
      "0\n",
      "1\n",
      "2\n",
      "3\n",
      "4\n",
      "5\n",
      "6\n"
     ]
    }
   ],
   "source": [
    "numbers=[0,1,2,3,4,5,6,7,8,9]\n",
    "index=0\n",
    "while(index<10):\n",
    "    print(numbers[index])\n",
    "    if numbers[index]==6:\n",
    "       break\n",
    "    else:\n",
    "            index+= 1"
   ]
  },
  {
   "cell_type": "code",
   "execution_count": null,
   "id": "4f4c5e13",
   "metadata": {},
   "outputs": [],
   "source": [
    "Q.5."
   ]
  },
  {
   "cell_type": "code",
   "execution_count": 7,
   "id": "ac0c1074",
   "metadata": {},
   "outputs": [
    {
     "name": "stdout",
     "output_type": "stream",
     "text": [
      "Enter Your Employee Number(dd-ddd-dddd):33242546451142\n"
     ]
    },
    {
     "ename": "NameError",
     "evalue": "name 'employee_number' is not defined",
     "output_type": "error",
     "traceback": [
      "\u001b[1;31m---------------------------------------------------------------------------\u001b[0m",
      "\u001b[1;31mNameError\u001b[0m                                 Traceback (most recent call last)",
      "\u001b[1;32m~\\AppData\\Local\\Temp/ipykernel_11860/3170562777.py\u001b[0m in \u001b[0;36m<module>\u001b[1;34m\u001b[0m\n\u001b[0;32m      1\u001b[0m \u001b[0mEmployee_number\u001b[0m\u001b[1;33m=\u001b[0m\u001b[0minput\u001b[0m\u001b[1;33m(\u001b[0m\u001b[1;34m'Enter Your Employee Number(dd-ddd-dddd):'\u001b[0m\u001b[1;33m)\u001b[0m\u001b[1;33m\u001b[0m\u001b[1;33m\u001b[0m\u001b[0m\n\u001b[1;32m----> 2\u001b[1;33m \u001b[0mparts\u001b[0m\u001b[1;33m=\u001b[0m\u001b[0memployee_number\u001b[0m\u001b[1;33m.\u001b[0m\u001b[0msplit\u001b[0m\u001b[1;33m(\u001b[0m\u001b[1;34m'-'\u001b[0m\u001b[1;33m)\u001b[0m\u001b[1;33m\u001b[0m\u001b[1;33m\u001b[0m\u001b[0m\n\u001b[0m\u001b[0;32m      3\u001b[0m \u001b[0mvalid\u001b[0m\u001b[1;33m=\u001b[0m\u001b[1;32mFalse\u001b[0m\u001b[1;33m\u001b[0m\u001b[1;33m\u001b[0m\u001b[0m\n\u001b[0;32m      4\u001b[0m \u001b[1;32mif\u001b[0m \u001b[0mlen\u001b[0m\u001b[1;33m(\u001b[0m\u001b[0mparts\u001b[0m\u001b[1;33m)\u001b[0m\u001b[1;33m==\u001b[0m\u001b[1;36m3\u001b[0m\u001b[1;33m:\u001b[0m\u001b[1;33m\u001b[0m\u001b[1;33m\u001b[0m\u001b[0m\n\u001b[0;32m      5\u001b[0m     \u001b[1;32mif\u001b[0m \u001b[0mlen\u001b[0m\u001b[1;33m(\u001b[0m\u001b[0mparts\u001b[0m\u001b[1;33m[\u001b[0m\u001b[1;36m0\u001b[0m\u001b[1;33m]\u001b[0m\u001b[1;33m)\u001b[0m\u001b[1;33m==\u001b[0m\u001b[1;36m2\u001b[0m \u001b[1;32mand\u001b[0m \u001b[0mlen\u001b[0m\u001b[1;33m(\u001b[0m\u001b[0mparts\u001b[0m\u001b[1;33m[\u001b[0m\u001b[1;36m1\u001b[0m\u001b[1;33m]\u001b[0m\u001b[1;33m)\u001b[0m\u001b[1;33m==\u001b[0m\u001b[1;36m3\u001b[0m \u001b[1;32mand\u001b[0m \u001b[0mlen\u001b[0m\u001b[1;33m(\u001b[0m\u001b[0mpart\u001b[0m\u001b[1;33m[\u001b[0m\u001b[1;36m2\u001b[0m\u001b[1;33m]\u001b[0m\u001b[1;33m)\u001b[0m\u001b[1;33m==\u001b[0m\u001b[1;36m4\u001b[0m\u001b[1;33m:\u001b[0m\u001b[1;33m\u001b[0m\u001b[1;33m\u001b[0m\u001b[0m\n",
      "\u001b[1;31mNameError\u001b[0m: name 'employee_number' is not defined"
     ]
    }
   ],
   "source": [
    "Employee_number=input('Enter Your Employee Number(dd-ddd-dddd):')\n",
    "parts=employee_number.split('-')\n",
    "valid=False\n",
    "if len(parts)==3:\n",
    "    if len(parts[0])==2 and len(parts[1])==3 and len(part[2])==4:\n",
    "        if parts[0].isdigit() and parts[1].isdigit() and parts[2].isdigit():\n",
    "            valid=True\n",
    "print(valid)"
   ]
  },
  {
   "cell_type": "code",
   "execution_count": null,
   "id": "0f8a5c79",
   "metadata": {},
   "outputs": [],
   "source": [
    "## No changes are required for this code, it can fulfill the requirement."
   ]
  },
  {
   "cell_type": "code",
   "execution_count": null,
   "id": "6b60cfd6",
   "metadata": {},
   "outputs": [],
   "source": []
  },
  {
   "cell_type": "code",
   "execution_count": null,
   "id": "8522d7b2",
   "metadata": {},
   "outputs": [],
   "source": [
    "Q.6.\n",
    "We are developing a online shopping application. Consider the code:"
   ]
  },
  {
   "cell_type": "code",
   "execution_count": 5,
   "id": "e8ca220d",
   "metadata": {},
   "outputs": [
    {
     "name": "stdout",
     "output_type": "stream",
     "text": [
      "Enter the day of week:Thursday\n"
     ]
    }
   ],
   "source": [
    "d=input('Enter the day of week:')\n",
    "discount_percentage = 3\n",
    "\n",
    "if d=='Monday':\n",
    "    discount_percentage+=5\n",
    "elif d=='Tuesday':\n",
    "    discount_percentage+=7\n",
    "elif d=='Saturday':\n",
    "     discount_percentage+=10\n",
    "elif d=='Sunday':\n",
    "     discount_percentage+=20\n",
    "else:\n",
    "     discount_percentage+=2\n",
    "    "
   ]
  },
  {
   "cell_type": "code",
   "execution_count": 6,
   "id": "d4c9a77b",
   "metadata": {},
   "outputs": [
    {
     "data": {
      "text/plain": [
       "5"
      ]
     },
     "execution_count": 6,
     "metadata": {},
     "output_type": "execute_result"
    }
   ],
   "source": [
    "discount_percentage"
   ]
  },
  {
   "cell_type": "code",
   "execution_count": null,
   "id": "ffc63c33",
   "metadata": {},
   "outputs": [],
   "source": [
    "To get 5 as discount_percentage, which of the following input should be provided end user?"
   ]
  },
  {
   "cell_type": "code",
   "execution_count": null,
   "id": "098b3f85",
   "metadata": {},
   "outputs": [],
   "source": [
    "## Thursday"
   ]
  },
  {
   "cell_type": "code",
   "execution_count": null,
   "id": "d69785ed",
   "metadata": {},
   "outputs": [],
   "source": []
  },
  {
   "cell_type": "code",
   "execution_count": null,
   "id": "cc996453",
   "metadata": {},
   "outputs": [],
   "source": [
    "Q.7.\n",
    "We are developing gold loan for XYZ company.\n"
   ]
  },
  {
   "cell_type": "code",
   "execution_count": 2,
   "id": "e7123c51",
   "metadata": {},
   "outputs": [
    {
     "name": "stdout",
     "output_type": "stream",
     "text": [
      "Enter the loan amount:56000\n"
     ]
    }
   ],
   "source": [
    "amount=float(input('Enter the loan amount:'))\n",
    "interest_rate=0\n",
    "if amount>0 and amount<=50000:\n",
    "    interest_rate=10\n",
    "elif amount > 50000 and amount < 100000:\n",
    "    interest_rate=12\n",
    "elif amount > 50000 and amount < 100000:    \n",
    "    interest_rate=16\n",
    "else:\n",
    "    interest_rate=22\n",
    "    "
   ]
  },
  {
   "cell_type": "code",
   "execution_count": 4,
   "id": "8b5de601",
   "metadata": {},
   "outputs": [
    {
     "data": {
      "text/plain": [
       "12"
      ]
     },
     "execution_count": 4,
     "metadata": {},
     "output_type": "execute_result"
    }
   ],
   "source": [
    "interest_rate"
   ]
  },
  {
   "cell_type": "code",
   "execution_count": null,
   "id": "88fa0dc1",
   "metadata": {},
   "outputs": [],
   "source": [
    "Q.8.\n",
    "We are developing an application for leave approval in XYZ company.\n",
    "days=int(input('Enter number of days for leave:'))\n",
    "cause=input('Enter the cause:')\n",
    "If days==1:\n",
    "    print('Leave will be approved immidiately')\n",
    "elif days>1 and days <=3:\n",
    "    if cause=='Sick'\n",
    "        print('Leave will be approved immidiately')\n",
    "    elif:\n",
    "        print('Needs lead approval ')\n",
    "elif days>3 and days<5:\n",
    "    if cause=='sick'\n",
    "        print('Needs Madays= 2 and cause='Sick'nager approval')\n",
    "    else:\n",
    "        print('Needs Director approval')\n",
    "elif days>=5 and days<=10:\n",
    "    print('Needs Director approval')\n",
    "\n",
    "In which of the following cases 'Needs director approval' will be printed to the console?"
   ]
  },
  {
   "cell_type": "code",
   "execution_count": null,
   "id": "44517ab7",
   "metadata": {},
   "outputs": [],
   "source": [
    "days= 2 and cause='Sick'"
   ]
  },
  {
   "cell_type": "code",
   "execution_count": 18,
   "id": "a64b2bfa",
   "metadata": {},
   "outputs": [
    {
     "name": "stdout",
     "output_type": "stream",
     "text": [
      "Enter number of days for leave:2\n",
      "Enter the cause:Sick\n",
      "Leave will be approved immidiately\n"
     ]
    }
   ],
   "source": [
    "days=int(input('Enter number of days for leave:'))\n",
    "cause=input('Enter the cause:')\n",
    "if days==1:\n",
    "    print('Leave will be approved immidiately')\n",
    "elif days>1 and days <=3:\n",
    "    if cause=='Sick':\n",
    "        print('Leave will be approved immidiately')\n",
    "    else:\n",
    "        print('Needs lead approval ')\n",
    "elif days>3 and days<5:\n",
    "    if cause=='Sick':\n",
    "        print('Needs Manager approval')\n",
    "    else:\n",
    "        print('Needs Director approval')\n",
    "elif days>=5 and days<=10:\n",
    "    print('Needs Director approval')"
   ]
  },
  {
   "cell_type": "code",
   "execution_count": null,
   "id": "78232a06",
   "metadata": {},
   "outputs": [],
   "source": [
    "days= 3 and cause='Personal'"
   ]
  },
  {
   "cell_type": "code",
   "execution_count": 24,
   "id": "60bd2f80",
   "metadata": {},
   "outputs": [
    {
     "name": "stdout",
     "output_type": "stream",
     "text": [
      "Enter number of days for leave:3\n",
      "Enter the cause:Personal\n",
      "Needs lead approval \n"
     ]
    }
   ],
   "source": [
    "days=int(input('Enter number of days for leave:'))\n",
    "cause=input('Enter the cause:')\n",
    "if days==1:\n",
    "    print('Leave will be approved immidiately')\n",
    "elif days>1 and days <=3:\n",
    "    if cause=='Sick':\n",
    "        print('Leave will be approved immidiately')\n",
    "    else:\n",
    "        print('Needs lead approval ')\n",
    "elif days>3 and days<5:\n",
    "    if cause=='Sick':\n",
    "        print('Needs Manager approval')\n",
    "    else:\n",
    "        print('Needs Director approval')\n",
    "elif days>=5 and days<=10:\n",
    "    print('Needs Director approval')"
   ]
  },
  {
   "cell_type": "code",
   "execution_count": null,
   "id": "aca71126",
   "metadata": {},
   "outputs": [],
   "source": [
    "days= 4 and cause='Sick'"
   ]
  },
  {
   "cell_type": "code",
   "execution_count": 26,
   "id": "cfa10b2d",
   "metadata": {},
   "outputs": [
    {
     "name": "stdout",
     "output_type": "stream",
     "text": [
      "Enter number of days for leave:4\n",
      "Enter the cause:Sick\n",
      "Needs Manager approval\n"
     ]
    }
   ],
   "source": [
    "days=int(input('Enter number of days for leave:'))\n",
    "cause=input('Enter the cause:')\n",
    "if days==1:\n",
    "    print('Leave will be approved immidiately')\n",
    "elif days>1 and days <=3:\n",
    "    if cause=='Sick':\n",
    "        print('Leave will be approved immidiately')\n",
    "    else:\n",
    "        print('Needs lead approval ')\n",
    "elif days>3 and days<5:\n",
    "    if cause=='Sick':\n",
    "        print('Needs Manager approval')\n",
    "    else:\n",
    "        print('Needs Director approval')\n",
    "elif days>=5 and days<=10:\n",
    "    print('Needs Director approval')"
   ]
  },
  {
   "cell_type": "code",
   "execution_count": null,
   "id": "45859186",
   "metadata": {},
   "outputs": [],
   "source": [
    "days= 4 and cause='Official'  ## Correct"
   ]
  },
  {
   "cell_type": "code",
   "execution_count": 21,
   "id": "442eab32",
   "metadata": {},
   "outputs": [
    {
     "name": "stdout",
     "output_type": "stream",
     "text": [
      "Enter number of days for leave:4\n",
      "Enter the cause:Official\n",
      "Needs Director approval\n"
     ]
    }
   ],
   "source": [
    "days=int(input('Enter number of days for leave:'))\n",
    "cause=input('Enter the cause:')\n",
    "if days==1:\n",
    "    print('Leave will be approved immidiately')\n",
    "elif days>1 and days <=3:\n",
    "    if cause=='Sick':\n",
    "        print('Leave will be approved immidiately')\n",
    "    else:\n",
    "        print('Needs lead approval ')\n",
    "elif days>3 and days<5:\n",
    "    if cause=='Sick':\n",
    "        print('Needs Manager approval')\n",
    "    else:\n",
    "        print('Needs Director approval')\n",
    "elif days>=5 and days<=10:\n",
    "    print('Needs Director approval')"
   ]
  },
  {
   "cell_type": "code",
   "execution_count": null,
   "id": "adec4ae1",
   "metadata": {},
   "outputs": [],
   "source": [
    "Q.9.\n",
    "Consider the following code:\n",
    "marks=[30,40,50,45,50,100]\n",
    "average=sum(marks)//len(marks)\n",
    "grades={1:'A',2:'B',3:'C',4:'D'}\n",
    "if average>=90 and average <=100:\n",
    "    key=1\n",
    "elif average>=80 and average<90:\n",
    "    key=2\n",
    "elif average>=50 and average< 80:\n",
    "    key=3\n",
    "else:\n",
    "    key=4\n",
    "print(grades[key])\n",
    "Which grade will be printed to the console?"
   ]
  },
  {
   "cell_type": "code",
   "execution_count": 28,
   "id": "c1a2a921",
   "metadata": {},
   "outputs": [
    {
     "name": "stdout",
     "output_type": "stream",
     "text": [
      "C\n"
     ]
    }
   ],
   "source": [
    "marks=[30,40,50,45,50,100]\n",
    "average=sum(marks)//len(marks)\n",
    "grades={1:'A',2:'B',3:'C',4:'D'}\n",
    "if average>=90 and average <=100:\n",
    "    key=1\n",
    "elif average>=80 and average<90:\n",
    "    key=2\n",
    "elif average>=50 and average< 80:\n",
    "    key=3\n",
    "else:\n",
    "    key=4\n",
    "print(grades[key])"
   ]
  },
  {
   "cell_type": "code",
   "execution_count": null,
   "id": "260091a3",
   "metadata": {},
   "outputs": [],
   "source": [
    "Q.10.\n",
    "Consider the code:\n",
    "a=4\n",
    "b=12\n",
    "s='He shall not be happy if he does not work'\n",
    "In which of the following cases result value will become 9?"
   ]
  },
  {
   "cell_type": "code",
   "execution_count": 30,
   "id": "56a441b4",
   "metadata": {},
   "outputs": [],
   "source": [
    "a=4\n",
    "b=12\n",
    "s='He shall not be happy if he does not work'"
   ]
  },
  {
   "cell_type": "code",
   "execution_count": 34,
   "id": "dcf883ce",
   "metadata": {},
   "outputs": [],
   "source": [
    "result =3 if None else a/b"
   ]
  },
  {
   "cell_type": "code",
   "execution_count": 35,
   "id": "17fcafe1",
   "metadata": {},
   "outputs": [
    {
     "data": {
      "text/plain": [
       "0.3333333333333333"
      ]
     },
     "execution_count": 35,
     "metadata": {},
     "output_type": "execute_result"
    }
   ],
   "source": [
    "result"
   ]
  },
  {
   "cell_type": "code",
   "execution_count": 32,
   "id": "cb8e2742",
   "metadata": {},
   "outputs": [],
   "source": [
    "result=s.find('not') if s else none"
   ]
  },
  {
   "cell_type": "code",
   "execution_count": 33,
   "id": "fc9adf39",
   "metadata": {},
   "outputs": [
    {
     "data": {
      "text/plain": [
       "9"
      ]
     },
     "execution_count": 33,
     "metadata": {},
     "output_type": "execute_result"
    }
   ],
   "source": [
    "result"
   ]
  },
  {
   "cell_type": "code",
   "execution_count": 36,
   "id": "581760c5",
   "metadata": {},
   "outputs": [],
   "source": [
    "result=s.rfind('not') if s else none"
   ]
  },
  {
   "cell_type": "code",
   "execution_count": 37,
   "id": "8549e20f",
   "metadata": {},
   "outputs": [
    {
     "data": {
      "text/plain": [
       "33"
      ]
     },
     "execution_count": 37,
     "metadata": {},
     "output_type": "execute_result"
    }
   ],
   "source": [
    "result"
   ]
  },
  {
   "cell_type": "code",
   "execution_count": 38,
   "id": "627e1a37",
   "metadata": {},
   "outputs": [],
   "source": [
    "result=5 if len(s)>4 else 6"
   ]
  },
  {
   "cell_type": "code",
   "execution_count": 39,
   "id": "9352b0a6",
   "metadata": {},
   "outputs": [
    {
     "data": {
      "text/plain": [
       "5"
      ]
     },
     "execution_count": 39,
     "metadata": {},
     "output_type": "execute_result"
    }
   ],
   "source": [
    "result"
   ]
  },
  {
   "cell_type": "code",
   "execution_count": null,
   "id": "2ffa19b6",
   "metadata": {},
   "outputs": [],
   "source": [
    "Q.11.\n",
    "We are developing loan collection agent application. Consider the code:\n",
    "collected_amount=3000\n",
    "commission=0\n",
    "if collected_amount<=2000:\n",
    "    commission=50\n",
    "elif colleced_amount>2500 and collected_amount<=3000:\n",
    "    commission=100\n",
    "elif colleced_amount>2500:\n",
    "    commission=150\n",
    "    if colleced_amount>=3000:\n",
    "        commission+=200\n",
    "What will be the value of commission?   \n"
   ]
  },
  {
   "cell_type": "code",
   "execution_count": 42,
   "id": "0596e354",
   "metadata": {},
   "outputs": [],
   "source": [
    "collected_amount=3000\n",
    "commission=0\n",
    "if collected_amount<=2000:\n",
    "    commission=50\n",
    "elif collected_amount>2500 and collected_amount<3000:\n",
    "    commission=100\n",
    "elif collected_amount>2500:\n",
    "    commission=150\n",
    "    if collected_amount>=3000:\n",
    "        commission+=200"
   ]
  },
  {
   "cell_type": "code",
   "execution_count": 43,
   "id": "5300361f",
   "metadata": {},
   "outputs": [
    {
     "data": {
      "text/plain": [
       "350"
      ]
     },
     "execution_count": 43,
     "metadata": {},
     "output_type": "execute_result"
    }
   ],
   "source": [
    "commission"
   ]
  },
  {
   "cell_type": "code",
   "execution_count": null,
   "id": "2206061b",
   "metadata": {},
   "outputs": [],
   "source": [
    "Q.12.\n",
    "You are developing online shopping application\n",
    "Consider the code:\n",
    "order_value=1500\n",
    "state='ap'\n",
    "delivery_charge=0\n",
    "if state in['up','mp','ts']:\n",
    "    if order_value<=1000:\n",
    "        delivery_charge=50\n",
    "    elif order_value>1000 and order_value<2000:\n",
    "        delivery_charge=100\n",
    "    else:\n",
    "        delivery_charge=150\n",
    "elif:\n",
    "    delivery_charge=25\n",
    "if state in['lp','kp','ap']:\n",
    "    if order_value>1000:\n",
    "        delivery_charge+=20\n",
    "    elif order_value<2000 and state in ['kp','ap']:\n",
    "        delivery_charge+=30\n",
    "    else:\n",
    "        delivery_charge+=15\n",
    "print(delivery_charge)\n",
    "What is the result?"
   ]
  },
  {
   "cell_type": "code",
   "execution_count": 2,
   "id": "36a23b13",
   "metadata": {},
   "outputs": [
    {
     "name": "stdout",
     "output_type": "stream",
     "text": [
      "75\n"
     ]
    }
   ],
   "source": [
    "order_value=1500\n",
    "state='ap'\n",
    "delivery_charge=0\n",
    "if state in['up','mp','ts']:\n",
    "    if order_value<=1000:\n",
    "        delivery_charge=50\n",
    "    elif order_value>1000 and order_value<2000:\n",
    "        delivery_charge=100\n",
    "    else:\n",
    "        delivery_charge=150\n",
    "else:\n",
    "    delivery_charge=25\n",
    "if state in['lp','kp','ap']:\n",
    "    if order_value>1000:\n",
    "        delivery_charge+=20\n",
    "    if order_value<2000 and state in ['kp','ap']:\n",
    "        delivery_charge+=30\n",
    "    else:\n",
    "        delivery_charge+=15\n",
    "print(delivery_charge)"
   ]
  },
  {
   "cell_type": "code",
   "execution_count": null,
   "id": "fe8028fb",
   "metadata": {},
   "outputs": [],
   "source": [
    "Q.13.\n",
    "Consider the code:\n",
    "l=[10,20,[30,40],[50,60]]\n",
    "count=0\n",
    "for i in range (len(l)):\n",
    "    if type(l(i))==list:\n",
    "        count=count+1\n",
    "print(count)\n",
    "What is the result?"
   ]
  },
  {
   "cell_type": "code",
   "execution_count": 3,
   "id": "43461dff",
   "metadata": {},
   "outputs": [
    {
     "name": "stdout",
     "output_type": "stream",
     "text": [
      "2\n"
     ]
    }
   ],
   "source": [
    "l=[10,20,[30,40],[50,60]]\n",
    "count=0\n",
    "for i in range (len(l)):\n",
    "    if type(l[i])==list:\n",
    "        count=count+1\n",
    "print(count)"
   ]
  },
  {
   "cell_type": "code",
   "execution_count": null,
   "id": "7ac7ff03",
   "metadata": {},
   "outputs": [],
   "source": [
    "Q.14.\n",
    "Consider the code:\n",
    "l=[10,(20,),{30},{},{},[40,50]]\n",
    "count=0\n",
    "for i in range(len(l)):\n",
    "    if type (l[i])==list:\n",
    "        count+=1\n",
    "    elif type(l[i])==tuple:\n",
    "        count+=2\n",
    "    elif type(l[i])==set:\n",
    "        count+=3\n",
    "    elif type(l[i])==dict:\n",
    "        count+=4\n",
    "    else:\n",
    "        count+=5\n",
    "print(count)\n",
    "What is the result?"
   ]
  },
  {
   "cell_type": "code",
   "execution_count": 5,
   "id": "c1108137",
   "metadata": {},
   "outputs": [
    {
     "name": "stdout",
     "output_type": "stream",
     "text": [
      "19\n"
     ]
    }
   ],
   "source": [
    "l=[10,(20,),{30},{},{},[40,50]]\n",
    "count=0\n",
    "for i in range(len(l)):\n",
    "    if type (l[i])==list:\n",
    "        count+=1\n",
    "    elif type(l[i])==tuple:\n",
    "        count+=2\n",
    "    elif type(l[i])==set:\n",
    "        count+=3\n",
    "    elif type(l[i])==dict:\n",
    "        count+=4\n",
    "    else:\n",
    "        count+=5\n",
    "print(count)"
   ]
  },
  {
   "cell_type": "code",
   "execution_count": null,
   "id": "4bfcef5a",
   "metadata": {},
   "outputs": [],
   "source": [
    "Q.15.\n",
    "Consider the code:\n",
    "t=(2,4,6,8,10,12)\n",
    "d={1:'A',2:'B',3:'C',4:'D',5:'E',6:'F'}\n",
    "result=1\n",
    "for t1 in t:\n",
    "    if t1 in d:\n",
    "        result+=t1\n",
    "print(result)\n",
    "What is the result?"
   ]
  },
  {
   "cell_type": "code",
   "execution_count": 7,
   "id": "8a54b29f",
   "metadata": {},
   "outputs": [
    {
     "name": "stdout",
     "output_type": "stream",
     "text": [
      "13\n"
     ]
    }
   ],
   "source": [
    "t=(2,4,6,8,10,12)\n",
    "d={1:'A',2:'B',3:'C',4:'D',5:'E',6:'F'}\n",
    "result=1\n",
    "for t1 in t:\n",
    "    if t1 in d:\n",
    "        result+=t1\n",
    "print(result)"
   ]
  },
  {
   "cell_type": "code",
   "execution_count": null,
   "id": "f346469d",
   "metadata": {},
   "outputs": [],
   "source": [
    "Q.16.\n",
    "Consider the code:\n",
    "t=(2,4,6,8,10,12)\n",
    "d={1:'A',2:'B',3:'C',4:'D',5:'E',6:'F'}\n",
    "result=1\n",
    "for t1 in t:\n",
    "    if t1 in d:\n",
    "        continue\n",
    "    else:\n",
    "        result+=t1\n",
    "print(result)\n",
    "What is the result?"
   ]
  },
  {
   "cell_type": "code",
   "execution_count": 9,
   "id": "4eed1b8c",
   "metadata": {},
   "outputs": [
    {
     "name": "stdout",
     "output_type": "stream",
     "text": [
      "31\n"
     ]
    }
   ],
   "source": [
    "t=(2,4,6,8,10,12)\n",
    "d={1:'A',2:'B',3:'C',4:'D',5:'E',6:'F'}\n",
    "result=1\n",
    "for t1 in t:\n",
    "    if t1 in d:\n",
    "        continue\n",
    "    else:\n",
    "        result+=t1\n",
    "print(result)"
   ]
  },
  {
   "cell_type": "code",
   "execution_count": null,
   "id": "edce8796",
   "metadata": {},
   "outputs": [],
   "source": [
    "Q.17.\n",
    "Consider the code:\n",
    "values=[[3,4,5,1],[33,6,1,2]]\n",
    "v=values[0][0]\n",
    "for lst in values:\n",
    "    for element in lst:\n",
    "        if v>element:\n",
    "            v=element\n",
    "print(v)\n",
    "What is the result?"
   ]
  },
  {
   "cell_type": "code",
   "execution_count": 10,
   "id": "82abfdb6",
   "metadata": {},
   "outputs": [
    {
     "name": "stdout",
     "output_type": "stream",
     "text": [
      "1\n"
     ]
    }
   ],
   "source": [
    "\n",
    "values=[[3,4,5,1],[33,6,1,2]]\n",
    "v=values[0][0]\n",
    "for lst in values:\n",
    "    for element in lst:\n",
    "        if v>element:\n",
    "            v=element\n",
    "print(v)"
   ]
  },
  {
   "cell_type": "code",
   "execution_count": null,
   "id": "f04d73b2",
   "metadata": {},
   "outputs": [],
   "source": [
    "Q.18.\n",
    "Consider the code:\n",
    "def get_names():\n",
    "    names=['Sunny','Bunny','Chinny','Vinny','Pinny']\n",
    "    return names[2:]\n",
    "def update_names(elements):\n",
    "    new_names=[]\n",
    "    for name in elements:\n",
    "        new_names.append(name[:3].upper())\n",
    "    return new_names\n",
    "print(update_names(get_names()))\n",
    "What is the result?"
   ]
  },
  {
   "cell_type": "code",
   "execution_count": 15,
   "id": "3962fdbf",
   "metadata": {},
   "outputs": [
    {
     "name": "stdout",
     "output_type": "stream",
     "text": [
      "['CHI', 'VIN', 'PIN']\n"
     ]
    }
   ],
   "source": [
    "def get_names():\n",
    "    names=['Sunny','Bunny','Chinny','Vinny','Pinny']\n",
    "    return names[2:]\n",
    "def update_names(elements):\n",
    "    new_names=[]\n",
    "    for name in elements:\n",
    "        new_names.append(name[:3].upper())\n",
    "    return new_names\n",
    "print(update_names(get_names()))"
   ]
  },
  {
   "cell_type": "code",
   "execution_count": null,
   "id": "8b025c2b",
   "metadata": {},
   "outputs": [],
   "source": [
    "Q.19.\n",
    "Consider the following code:\n",
    "def my_list(x):\n",
    "    lst.append(a)\n",
    "    return lst\n",
    "my_list('chicken')\n",
    "my_list('mutton')\n",
    "print(my_list('fish'))\n",
    "\n",
    "to print following to the console\n",
    "['chicken','mutton','fish']\n",
    "x should be replaced with"
   ]
  },
  {
   "cell_type": "code",
   "execution_count": 35,
   "id": "64b6da2a",
   "metadata": {},
   "outputs": [
    {
     "name": "stdout",
     "output_type": "stream",
     "text": [
      "[33, 6, 1, 2, 'chicken', 'mutton', 'fish', 'chicken', 'mutton', 'fish', 'chicken', 'mutton', 'fish', 'chicken', 'mutton', 'fish', 'chicken', 'mutton', 'fish', 'chicken', 'mutton', 'fish', 'chicken', 'mutton', 'fish', 'chicken', 'mutton', 'fish', 'chicken', 'mutton', 'fish', 'chicken', 'mutton', 'fish', 'chicken', 'mutton', 'fish']\n"
     ]
    }
   ],
   "source": [
    "def my_list(a):\n",
    "    lst.append(a)\n",
    "    return lst\n",
    "my_list('chicken')\n",
    "my_list('mutton')\n",
    "print(my_list('fish'))"
   ]
  },
  {
   "cell_type": "code",
   "execution_count": null,
   "id": "fde64f24",
   "metadata": {},
   "outputs": [],
   "source": [
    "Q.20.\n",
    "Consider the following code:\n",
    "    def f1(x=0,y=0):\n",
    "        return x+y\n",
    "Which of the following method calls are valid?"
   ]
  },
  {
   "cell_type": "code",
   "execution_count": 36,
   "id": "e52e195b",
   "metadata": {},
   "outputs": [],
   "source": [
    "def f1(x=0,y=0):\n",
    "        return x+y"
   ]
  },
  {
   "cell_type": "code",
   "execution_count": 37,
   "id": "233b77a7",
   "metadata": {},
   "outputs": [
    {
     "data": {
      "text/plain": [
       "0"
      ]
     },
     "execution_count": 37,
     "metadata": {},
     "output_type": "execute_result"
    }
   ],
   "source": [
    "f1()"
   ]
  },
  {
   "cell_type": "code",
   "execution_count": 38,
   "id": "9e86f999",
   "metadata": {},
   "outputs": [
    {
     "data": {
      "text/plain": [
       "10"
      ]
     },
     "execution_count": 38,
     "metadata": {},
     "output_type": "execute_result"
    }
   ],
   "source": [
    "f1(10)"
   ]
  },
  {
   "cell_type": "code",
   "execution_count": 41,
   "id": "8728cc81",
   "metadata": {},
   "outputs": [
    {
     "data": {
      "text/plain": [
       "'1020'"
      ]
     },
     "execution_count": 41,
     "metadata": {},
     "output_type": "execute_result"
    }
   ],
   "source": [
    "f1('10','20')"
   ]
  },
  {
   "cell_type": "code",
   "execution_count": 40,
   "id": "6e3a9b88",
   "metadata": {},
   "outputs": [
    {
     "ename": "TypeError",
     "evalue": "can only concatenate str (not \"int\") to str",
     "output_type": "error",
     "traceback": [
      "\u001b[1;31m---------------------------------------------------------------------------\u001b[0m",
      "\u001b[1;31mTypeError\u001b[0m                                 Traceback (most recent call last)",
      "\u001b[1;32m~\\AppData\\Local\\Temp/ipykernel_16708/774868890.py\u001b[0m in \u001b[0;36m<module>\u001b[1;34m\u001b[0m\n\u001b[1;32m----> 1\u001b[1;33m \u001b[0mf1\u001b[0m\u001b[1;33m(\u001b[0m\u001b[1;34m'10'\u001b[0m\u001b[1;33m)\u001b[0m\u001b[1;33m\u001b[0m\u001b[1;33m\u001b[0m\u001b[0m\n\u001b[0m",
      "\u001b[1;32m~\\AppData\\Local\\Temp/ipykernel_16708/256702754.py\u001b[0m in \u001b[0;36mf1\u001b[1;34m(x, y)\u001b[0m\n\u001b[0;32m      1\u001b[0m \u001b[1;32mdef\u001b[0m \u001b[0mf1\u001b[0m\u001b[1;33m(\u001b[0m\u001b[0mx\u001b[0m\u001b[1;33m=\u001b[0m\u001b[1;36m0\u001b[0m\u001b[1;33m,\u001b[0m\u001b[0my\u001b[0m\u001b[1;33m=\u001b[0m\u001b[1;36m0\u001b[0m\u001b[1;33m)\u001b[0m\u001b[1;33m:\u001b[0m\u001b[1;33m\u001b[0m\u001b[1;33m\u001b[0m\u001b[0m\n\u001b[1;32m----> 2\u001b[1;33m         \u001b[1;32mreturn\u001b[0m \u001b[0mx\u001b[0m\u001b[1;33m+\u001b[0m\u001b[0my\u001b[0m\u001b[1;33m\u001b[0m\u001b[1;33m\u001b[0m\u001b[0m\n\u001b[0m",
      "\u001b[1;31mTypeError\u001b[0m: can only concatenate str (not \"int\") to str"
     ]
    }
   ],
   "source": [
    "f1('10')"
   ]
  },
  {
   "cell_type": "code",
   "execution_count": null,
   "id": "e859cc0a",
   "metadata": {},
   "outputs": [],
   "source": [
    "Q.21.\n",
    "Consider the following code:\n",
    "    def f1(x=0,y=0):\n",
    "        return x*y\n",
    "Which of the following method calls are valid?"
   ]
  },
  {
   "cell_type": "code",
   "execution_count": 42,
   "id": "520dd319",
   "metadata": {},
   "outputs": [],
   "source": [
    "def f1(x=0,y=0):\n",
    "        return x*y"
   ]
  },
  {
   "cell_type": "code",
   "execution_count": 43,
   "id": "e0a157fc",
   "metadata": {},
   "outputs": [
    {
     "data": {
      "text/plain": [
       "0"
      ]
     },
     "execution_count": 43,
     "metadata": {},
     "output_type": "execute_result"
    }
   ],
   "source": [
    "f1()"
   ]
  },
  {
   "cell_type": "code",
   "execution_count": 44,
   "id": "44b3d2ad",
   "metadata": {},
   "outputs": [
    {
     "ename": "TypeError",
     "evalue": "can't multiply sequence by non-int of type 'str'",
     "output_type": "error",
     "traceback": [
      "\u001b[1;31m---------------------------------------------------------------------------\u001b[0m",
      "\u001b[1;31mTypeError\u001b[0m                                 Traceback (most recent call last)",
      "\u001b[1;32m~\\AppData\\Local\\Temp/ipykernel_16708/3787630236.py\u001b[0m in \u001b[0;36m<module>\u001b[1;34m\u001b[0m\n\u001b[1;32m----> 1\u001b[1;33m \u001b[0mf1\u001b[0m\u001b[1;33m(\u001b[0m\u001b[1;34m'10'\u001b[0m\u001b[1;33m,\u001b[0m\u001b[1;34m'20'\u001b[0m\u001b[1;33m)\u001b[0m\u001b[1;33m\u001b[0m\u001b[1;33m\u001b[0m\u001b[0m\n\u001b[0m",
      "\u001b[1;32m~\\AppData\\Local\\Temp/ipykernel_16708/1815170779.py\u001b[0m in \u001b[0;36mf1\u001b[1;34m(x, y)\u001b[0m\n\u001b[0;32m      1\u001b[0m \u001b[1;32mdef\u001b[0m \u001b[0mf1\u001b[0m\u001b[1;33m(\u001b[0m\u001b[0mx\u001b[0m\u001b[1;33m=\u001b[0m\u001b[1;36m0\u001b[0m\u001b[1;33m,\u001b[0m\u001b[0my\u001b[0m\u001b[1;33m=\u001b[0m\u001b[1;36m0\u001b[0m\u001b[1;33m)\u001b[0m\u001b[1;33m:\u001b[0m\u001b[1;33m\u001b[0m\u001b[1;33m\u001b[0m\u001b[0m\n\u001b[1;32m----> 2\u001b[1;33m         \u001b[1;32mreturn\u001b[0m \u001b[0mx\u001b[0m\u001b[1;33m*\u001b[0m\u001b[0my\u001b[0m\u001b[1;33m\u001b[0m\u001b[1;33m\u001b[0m\u001b[0m\n\u001b[0m",
      "\u001b[1;31mTypeError\u001b[0m: can't multiply sequence by non-int of type 'str'"
     ]
    }
   ],
   "source": [
    "f1('10','20')"
   ]
  },
  {
   "cell_type": "code",
   "execution_count": 45,
   "id": "2e1971b6",
   "metadata": {},
   "outputs": [
    {
     "data": {
      "text/plain": [
       "0"
      ]
     },
     "execution_count": 45,
     "metadata": {},
     "output_type": "execute_result"
    }
   ],
   "source": [
    "f1(10)"
   ]
  },
  {
   "cell_type": "code",
   "execution_count": 46,
   "id": "4f2fccc3",
   "metadata": {},
   "outputs": [
    {
     "data": {
      "text/plain": [
       "''"
      ]
     },
     "execution_count": 46,
     "metadata": {},
     "output_type": "execute_result"
    }
   ],
   "source": [
    "f1('10')"
   ]
  },
  {
   "cell_type": "code",
   "execution_count": null,
   "id": "641a6467",
   "metadata": {},
   "outputs": [],
   "source": [
    "Q.22.\n",
    "Consider the following code:\n",
    "numbers=[100,20,10,70,50,60,40,30,90,80]\n",
    "## insert the code here\n",
    "print ('The highest number:{} and least number:{}'.format(high,low))\n",
    "Which of the following code should be inserted to print highest number as 100 and least number as 10"
   ]
  },
  {
   "cell_type": "code",
   "execution_count": 47,
   "id": "b12116d9",
   "metadata": {},
   "outputs": [
    {
     "name": "stdout",
     "output_type": "stream",
     "text": [
      "The highest number:100 and least number:10\n"
     ]
    }
   ],
   "source": [
    "numbers=[100,20,10,70,50,60,40,30,90,80]\n",
    "def find_numbers():\n",
    "    numbers.sort()\n",
    "    return numbers[0],numbers[-1]\n",
    "low,high=find_numbers()\n",
    "print ('The highest number:{} and least number:{}'.format(high,low))"
   ]
  },
  {
   "cell_type": "code",
   "execution_count": null,
   "id": "07b1cd40",
   "metadata": {},
   "outputs": [],
   "source": [
    "Q.23.\n",
    "Consider the following code:\n",
    "numbers=[100,20,10,70,50,60,40,30,90,80]\n",
    "def find_numbers():\n",
    "    numbers.sort()\n",
    "    return numbers[0],numbers[-1]\n",
    "low=find_numbers()\n",
    "high=find_numbers()\n",
    "##line-1\n",
    "To print 10 100 to the console which of the following code we have to take at line-1?"
   ]
  },
  {
   "cell_type": "code",
   "execution_count": 48,
   "id": "979e4ccc",
   "metadata": {},
   "outputs": [
    {
     "name": "stdout",
     "output_type": "stream",
     "text": [
      "10 100\n"
     ]
    }
   ],
   "source": [
    "numbers=[100,20,10,70,50,60,40,30,90,80]\n",
    "def find_numbers():\n",
    "    numbers.sort()\n",
    "    return numbers[0],numbers[-1]\n",
    "low=find_numbers()\n",
    "high=find_numbers()\n",
    "print(low[0],high[-1])"
   ]
  },
  {
   "cell_type": "code",
   "execution_count": null,
   "id": "fcde376c",
   "metadata": {},
   "outputs": [],
   "source": [
    "Q.24.\n",
    "Consider the code:\n",
    "def calculate(amount=6,factor=3):\n",
    "    if amount>6:\n",
    "        return amount*factor\n",
    "    else:\n",
    "        return amount*factor*2\n",
    "Which of the following function calls returns 30?"
   ]
  },
  {
   "cell_type": "code",
   "execution_count": 49,
   "id": "525c5044",
   "metadata": {},
   "outputs": [],
   "source": [
    "def calculate(amount=6,factor=3):\n",
    "    if amount>6:\n",
    "        return amount*factor\n",
    "    else:\n",
    "        return amount*factor*2"
   ]
  },
  {
   "cell_type": "code",
   "execution_count": 50,
   "id": "3812a638",
   "metadata": {},
   "outputs": [
    {
     "data": {
      "text/plain": [
       "36"
      ]
     },
     "execution_count": 50,
     "metadata": {},
     "output_type": "execute_result"
    }
   ],
   "source": [
    "calculate()"
   ]
  },
  {
   "cell_type": "code",
   "execution_count": 51,
   "id": "80e9d2a8",
   "metadata": {},
   "outputs": [
    {
     "data": {
      "text/plain": [
       "30"
      ]
     },
     "execution_count": 51,
     "metadata": {},
     "output_type": "execute_result"
    }
   ],
   "source": [
    "calculate(10)"
   ]
  },
  {
   "cell_type": "code",
   "execution_count": 52,
   "id": "ed3a0651",
   "metadata": {},
   "outputs": [
    {
     "data": {
      "text/plain": [
       "20"
      ]
     },
     "execution_count": 52,
     "metadata": {},
     "output_type": "execute_result"
    }
   ],
   "source": [
    "calculate(5,2)"
   ]
  },
  {
   "cell_type": "code",
   "execution_count": 53,
   "id": "d62a7372",
   "metadata": {},
   "outputs": [
    {
     "data": {
      "text/plain": [
       "6"
      ]
     },
     "execution_count": 53,
     "metadata": {},
     "output_type": "execute_result"
    }
   ],
   "source": [
    "calculate(1)"
   ]
  },
  {
   "cell_type": "code",
   "execution_count": null,
   "id": "a5b7dced",
   "metadata": {},
   "outputs": [],
   "source": [
    "Q.25.\n",
    "Consider the code:\n",
    "def fib_seq(n):\n",
    "    if n==0:\n",
    "        return 0\n",
    "    elif n==1:\n",
    "        return 1\n",
    "    else:\n",
    "        return fib_seq(n-1)+ fib_seq(n-2)\n",
    "for i in range(7):\n",
    "    print(fib_seq(i),end=',')\n",
    "What is the result?"
   ]
  },
  {
   "cell_type": "code",
   "execution_count": 55,
   "id": "d99ce46b",
   "metadata": {},
   "outputs": [
    {
     "name": "stdout",
     "output_type": "stream",
     "text": [
      "0,1,1,2,3,5,8,"
     ]
    }
   ],
   "source": [
    "def fib_seq(n):\n",
    "    if n==0:\n",
    "        return 0\n",
    "    elif n==1:\n",
    "        return 1\n",
    "    else:\n",
    "        return fib_seq(n-1)+ fib_seq(n-2)\n",
    "for i in range(7):\n",
    "    print(fib_seq(i),end=',')"
   ]
  },
  {
   "cell_type": "code",
   "execution_count": null,
   "id": "4b9752ee",
   "metadata": {},
   "outputs": [],
   "source": [
    "Q.26.\n",
    "You are developing a python application for online game.\n",
    "You need to creat a function that meets the following criteria:\n",
    "The function is named update_score\n",
    "The function receives the current score and a value\n",
    "The function adds the value to the current score\n",
    "The function returns the new score.\n",
    "Which of the following is valid function to fulfill this requirement?"
   ]
  },
  {
   "cell_type": "code",
   "execution_count": 56,
   "id": "34b78cb1",
   "metadata": {},
   "outputs": [],
   "source": [
    "def update_score(score,value):\n",
    "    new_score=score+value\n",
    "    return new_score"
   ]
  },
  {
   "cell_type": "code",
   "execution_count": null,
   "id": "f9cca514",
   "metadata": {},
   "outputs": [],
   "source": [
    "Q.27.\n",
    "The XYZ company is creating a program that allows the customers to log the number of miles biked.\n",
    "The program will send messages based on how many miles the customer logs. Consider the following \n",
    "python code:\n",
    "Line-1 \n",
    "    name=input(\"Enter your name:\")\n",
    "    return name\n",
    "Line-2\n",
    "    calories=miles*calories_per_mile\n",
    "    return calories\n",
    "distance=int(input('How many miles did you bike this week:'))\n",
    "burn_rate=50\n",
    "biker=get_name()\n",
    "calories_burned=calc_calories(distance,burn_rate)\n",
    "print(biker,\",You burned about\",calories_burned,\" calories\")\n",
    "The lines Line-1 and Line-2 should be replaced with?"
   ]
  },
  {
   "cell_type": "code",
   "execution_count": null,
   "id": "25426a59",
   "metadata": {},
   "outputs": [],
   "source": [
    "Line-1 should be replaced with\n",
    "def get_names():\n",
    "Line-2 should be replaced with\n",
    "def get_names(): ## Correct"
   ]
  },
  {
   "cell_type": "code",
   "execution_count": 59,
   "id": "cfa82ff9",
   "metadata": {},
   "outputs": [
    {
     "name": "stdout",
     "output_type": "stream",
     "text": [
      "How many miles did you bike this week:70\n",
      "Enter your name:Sachin\n",
      "Sachin ,You burned about 3500  calories\n"
     ]
    }
   ],
   "source": [
    "def get_name():\n",
    "    name=input(\"Enter your name:\")\n",
    "    return name\n",
    "def calc_calories(miles,calories_per_mile):\n",
    "    calories=miles*calories_per_mile\n",
    "    return calories\n",
    "distance=int(input('How many miles did you bike this week:'))\n",
    "burn_rate=50\n",
    "biker=get_name()\n",
    "calories_burned=calc_calories(distance,burn_rate)\n",
    "print(biker,\",You burned about\",calories_burned,\" calories\")"
   ]
  },
  {
   "cell_type": "code",
   "execution_count": null,
   "id": "94cd1e65",
   "metadata": {},
   "outputs": [],
   "source": [
    "Q.28.\n",
    "You work for a company that distributes media for all ages. You are writing a function that assigns a \n",
    "rating nased on a user's age. The funtion must meet the following requirements. \n",
    "Anyone 18 years old or older reeives a rating of \"A\"\n",
    "Anyone 13 or older,but younger than 18, reeives a rating of \"T\"\n",
    "Anyone 12 years old or younger receives a rating of \"C\"\n",
    "If the age id unknown, the rating is set to \"C\"\n",
    "Which of the following code meets above requirements:\n",
    "    "
   ]
  },
  {
   "cell_type": "code",
   "execution_count": 1,
   "id": "1db62bee",
   "metadata": {},
   "outputs": [],
   "source": [
    "def get_rating(age):\n",
    "    if age>=18:\n",
    "        rating=\"A\"\n",
    "    elif age>=13:\n",
    "        rating=\"T\"\n",
    "    else:\n",
    "        rating=\"C\"\n",
    "    return rating"
   ]
  },
  {
   "cell_type": "code",
   "execution_count": null,
   "id": "af3f7f48",
   "metadata": {},
   "outputs": [],
   "source": [
    "Q.29.Consider the following python code:\n",
    "def count_letter(letter,word_list):\n",
    "    count=0\n",
    "    for word in word_list:\n",
    "        if letter in word:\n",
    "            count+=1\n",
    "    return count\n",
    "word_list=['apple','pears','orange','mango']\n",
    "letter=input('Enter some alphabet symbol:')\n",
    "letter_count=count_letter(letter,word_list)\n",
    "print(letter_count)"
   ]
  },
  {
   "cell_type": "code",
   "execution_count": 6,
   "id": "a409a019",
   "metadata": {},
   "outputs": [
    {
     "name": "stdout",
     "output_type": "stream",
     "text": [
      "Enter some alphabet symbol:mango\n",
      "1\n"
     ]
    }
   ],
   "source": [
    "def count_letter(letter,word_list):\n",
    "    count=0\n",
    "    for word in word_list:\n",
    "        if letter in word:\n",
    "            count+=1\n",
    "    return count\n",
    "word_list=['apple','pears','orange','mango']\n",
    "letter=input('Enter some alphabet symbol:')\n",
    "letter_count=count_letter(letter,word_list)\n",
    "print(letter_count)"
   ]
  },
  {
   "cell_type": "code",
   "execution_count": null,
   "id": "34b3b38a",
   "metadata": {},
   "outputs": [],
   "source": [
    "Q.30. Consider the ode:\n",
    "    startmsg=\"hello\"\n",
    "    endmsg=\"\"\n",
    "    for i in range(0,len(startmsg)):\n",
    "        endmsg= startmsg[i]+endmsg\n",
    "    print(endmsg)"
   ]
  },
  {
   "cell_type": "code",
   "execution_count": 7,
   "id": "43dd23eb",
   "metadata": {},
   "outputs": [
    {
     "name": "stdout",
     "output_type": "stream",
     "text": [
      "olleh\n"
     ]
    }
   ],
   "source": [
    "startmsg=\"hello\"\n",
    "endmsg=\"\"\n",
    "for i in range(0,len(startmsg)):\n",
    "    endmsg= startmsg[i]+endmsg\n",
    "print(endmsg)"
   ]
  },
  {
   "cell_type": "code",
   "execution_count": null,
   "id": "b9e5dedd",
   "metadata": {},
   "outputs": [],
   "source": [
    "Q.31. Consider the code:\n",
    "x=[13,4,17,10]\n",
    "w=x[1:]\n",
    "u=x[1:]\n",
    "y=x\n",
    "u[0]=50\n",
    "y[1]=40\n",
    "print(x)\n",
    "What is the result?"
   ]
  },
  {
   "cell_type": "code",
   "execution_count": 8,
   "id": "9818cdc1",
   "metadata": {},
   "outputs": [
    {
     "name": "stdout",
     "output_type": "stream",
     "text": [
      "[13, 40, 17, 10]\n"
     ]
    }
   ],
   "source": [
    "x=[13,4,17,10]\n",
    "w=x[1:]\n",
    "u=x[1:]\n",
    "y=x\n",
    "u[0]=50\n",
    "y[1]=40\n",
    "print(x)"
   ]
  },
  {
   "cell_type": "code",
   "execution_count": null,
   "id": "ed49a8f5",
   "metadata": {},
   "outputs": [],
   "source": [
    "Q.32.\n",
    "You want to add comments to your code so that other team members an understand it.\n",
    "What should you do?\n"
   ]
  },
  {
   "cell_type": "code",
   "execution_count": null,
   "id": "a495caec",
   "metadata": {},
   "outputs": [],
   "source": [
    "place the comments after # sign on any line"
   ]
  },
  {
   "cell_type": "code",
   "execution_count": null,
   "id": "22081842",
   "metadata": {},
   "outputs": [],
   "source": [
    "Q.33.\n",
    "We are creating a function to calculate the power of a number by using python. We have to ensure that\n",
    "the function is documented with comments.\n",
    "Consider the code:\n",
    "01#The calc_power funtion calculates exponents\n",
    "02#x is the base\n",
    "03#y is the exponent\n",
    "04#The value of x raided to the y power is returned\n",
    "05 def calc_power(x,y):\n",
    "06    comment=\"#Return the value\"\n",
    "07    return x**y #raise x to the power y\n",
    "Which of the following statements are true?"
   ]
  },
  {
   "cell_type": "code",
   "execution_count": 16,
   "id": "b9676253",
   "metadata": {},
   "outputs": [],
   "source": [
    "def calc_power(x,y):\n",
    "    comment=\"#Return the value\"\n",
    "    return x**y"
   ]
  },
  {
   "cell_type": "code",
   "execution_count": null,
   "id": "4f2329b3",
   "metadata": {},
   "outputs": [],
   "source": [
    "Lines 01 through line 04 will be ignored for syntax checking ##Correct"
   ]
  },
  {
   "cell_type": "code",
   "execution_count": null,
   "id": "32104783",
   "metadata": {},
   "outputs": [],
   "source": [
    "The # sign is optional for lines 01 and 03"
   ]
  },
  {
   "cell_type": "code",
   "execution_count": null,
   "id": "03677ed9",
   "metadata": {},
   "outputs": [],
   "source": [
    "The string line 06 will be interpreted as comment"
   ]
  },
  {
   "cell_type": "code",
   "execution_count": null,
   "id": "76875ab5",
   "metadata": {},
   "outputs": [],
   "source": [
    "Q.34. You are writing a python script to convert student marks into grade. The grades are defined as \n",
    "follows:\n",
    "90 through 100--> A grade\n",
    "80 through 89--> B grade\n",
    "70 through 79--> C grade\n",
    "65 through 69--> D grade\n",
    "0 through 64--> E grade\n",
    "And developed application is:\n",
    "# Grade Converter\n",
    "marks= int(input('Enter students marks:'))\n",
    "if marks >=90:\n",
    "    grade='A'\n",
    "elif marks >=80:\n",
    "    grade='B'\n",
    "elif marks>=70:\n",
    "    grade='C'\n",
    "elif marks>=65:\n",
    "    grade='D'\n",
    "else:\n",
    "    grade='E'\n",
    "print('Your grade is:',grade)\n",
    "Which of the following changes should be performed to fulfill the requirement?"
   ]
  },
  {
   "cell_type": "code",
   "execution_count": 20,
   "id": "933640d3",
   "metadata": {},
   "outputs": [
    {
     "name": "stdout",
     "output_type": "stream",
     "text": [
      "Enter students marks:94\n",
      "Your grade is: A\n"
     ]
    }
   ],
   "source": [
    "marks= int(input('Enter students marks:'))\n",
    "if marks >=90:\n",
    "    grade='A'\n",
    "elif marks >=80:\n",
    "    grade='B'\n",
    "elif marks>=70:\n",
    "    grade='C'\n",
    "elif marks>=65:\n",
    "    grade='D'\n",
    "else:\n",
    "    grade='E'\n",
    "print('Your grade is:',grade)"
   ]
  },
  {
   "cell_type": "code",
   "execution_count": null,
   "id": "9077cbb1",
   "metadata": {},
   "outputs": [],
   "source": [
    "# No changes are required."
   ]
  },
  {
   "cell_type": "code",
   "execution_count": null,
   "id": "48920d92",
   "metadata": {},
   "outputs": [],
   "source": [
    "Q.35.You are developing a python application for an online produt distribution company. You need the \n",
    "program to iterate through a list of products and escape when a target product ID is found.\n",
    "Whih of the following code can fulfill the requirement  "
   ]
  },
  {
   "cell_type": "code",
   "execution_count": 23,
   "id": "1556ac28",
   "metadata": {},
   "outputs": [
    {
     "name": "stdout",
     "output_type": "stream",
     "text": [
      "0\n",
      "1\n",
      "2\n",
      "3\n",
      "4\n",
      "5\n",
      "6\n"
     ]
    }
   ],
   "source": [
    "productIDlist=[0,1,2,3,4,5,6,7,8,9]\n",
    "index=0\n",
    "while index<len(produtIDlist):\n",
    "    print(productIDlist[index])\n",
    "    if productIDlist[index]==6:\n",
    "        break\n",
    "    else:\n",
    "        index+=1"
   ]
  },
  {
   "cell_type": "code",
   "execution_count": null,
   "id": "95d27eef",
   "metadata": {},
   "outputs": [],
   "source": [
    "Q.36.You are writing a python program that displays all prime numbers from 2 to 200.\n",
    "Which of the following is proper code to fulfill our requirement?\n",
    "p=2\n",
    "while p<=200:\n",
    "    is_prime=True\n",
    "    for i in range(2,p):\n",
    "        if p%i==0:\n",
    "            is_prime=False\n",
    "            break\n",
    "        if is_prime==True:\n",
    "            print(p)\n",
    "        p=p+1"
   ]
  },
  {
   "cell_type": "code",
   "execution_count": 27,
   "id": "fe1ae6be",
   "metadata": {},
   "outputs": [
    {
     "ename": "KeyboardInterrupt",
     "evalue": "",
     "output_type": "error",
     "traceback": [
      "\u001b[1;31m---------------------------------------------------------------------------\u001b[0m",
      "\u001b[1;31mKeyboardInterrupt\u001b[0m                         Traceback (most recent call last)",
      "\u001b[1;32m~\\AppData\\Local\\Temp/ipykernel_14184/1058416176.py\u001b[0m in \u001b[0;36m<module>\u001b[1;34m\u001b[0m\n\u001b[0;32m      1\u001b[0m \u001b[0mp\u001b[0m\u001b[1;33m=\u001b[0m\u001b[1;36m2\u001b[0m\u001b[1;33m\u001b[0m\u001b[1;33m\u001b[0m\u001b[0m\n\u001b[0;32m      2\u001b[0m \u001b[1;32mwhile\u001b[0m \u001b[0mp\u001b[0m\u001b[1;33m<=\u001b[0m\u001b[1;36m200\u001b[0m\u001b[1;33m:\u001b[0m\u001b[1;33m\u001b[0m\u001b[1;33m\u001b[0m\u001b[0m\n\u001b[1;32m----> 3\u001b[1;33m     \u001b[0mis_prime\u001b[0m\u001b[1;33m=\u001b[0m\u001b[1;32mTrue\u001b[0m\u001b[1;33m\u001b[0m\u001b[1;33m\u001b[0m\u001b[0m\n\u001b[0m\u001b[0;32m      4\u001b[0m     \u001b[1;32mfor\u001b[0m \u001b[0mi\u001b[0m \u001b[1;32min\u001b[0m \u001b[0mrange\u001b[0m\u001b[1;33m(\u001b[0m\u001b[1;36m2\u001b[0m\u001b[1;33m,\u001b[0m\u001b[0mp\u001b[0m\u001b[1;33m)\u001b[0m\u001b[1;33m:\u001b[0m\u001b[1;33m\u001b[0m\u001b[1;33m\u001b[0m\u001b[0m\n\u001b[0;32m      5\u001b[0m         \u001b[1;32mif\u001b[0m \u001b[0mp\u001b[0m\u001b[1;33m%\u001b[0m\u001b[0mi\u001b[0m\u001b[1;33m==\u001b[0m\u001b[1;36m0\u001b[0m\u001b[1;33m:\u001b[0m\u001b[1;33m\u001b[0m\u001b[1;33m\u001b[0m\u001b[0m\n",
      "\u001b[1;31mKeyboardInterrupt\u001b[0m: "
     ]
    }
   ],
   "source": [
    "p=2\n",
    "while p<=200:\n",
    "    is_prime=True\n",
    "    for i in range(2,p): \n",
    "        if p%i==0:\n",
    "            is_prime=False\n",
    "            break\n",
    "        if is_prime==True:\n",
    "            print(p)\n",
    "        p=p+1"
   ]
  },
  {
   "cell_type": "code",
   "execution_count": null,
   "id": "3e0dbbf5",
   "metadata": {},
   "outputs": [],
   "source": [
    "Q.37.You created the following program to locate a conference room and display room name.\n",
    "rooms={1:'Left Conference Room',2:'Right Conference Room'}\n",
    "room=input('Enter the room number:')\n",
    "if not room in rooms:# Line-3\n",
    "    print('Room does not exist')\n",
    "else:\n",
    "    print('The room name is:'+rooms[room])\n",
    "team reported that the program sometimes produces incorret results.\n",
    "You need to troubleshoot the program. Why does Line-3 fails to find the rooms?"
   ]
  },
  {
   "cell_type": "code",
   "execution_count": 68,
   "id": "33922b83",
   "metadata": {},
   "outputs": [
    {
     "name": "stdout",
     "output_type": "stream",
     "text": [
      "Enter the room number:5\n",
      "Room does not exist\n"
     ]
    }
   ],
   "source": [
    "rooms={1:'Left Conference Room',2:'Right Conference Room'}\n",
    "room=int(input('Enter the room number:'))\n",
    "if not room in rooms:# Line-3\n",
    "    print('Room does not exist')\n",
    "else:\n",
    "    print('The room name is:'+rooms[room])"
   ]
  },
  {
   "cell_type": "code",
   "execution_count": null,
   "id": "116caf38",
   "metadata": {},
   "outputs": [],
   "source": [
    "Q.38. The XYZ book company needs a way to determine the cost that a student will pay for renting a \n",
    "book.The cost is dependent on the time of book is returned.\n",
    "However there are also special rates on Saturday and Sundays.\n",
    "The fees struture is shown in the following list:\n",
    "THe cost is $3.00 per night.\n",
    "If the book is returned after 9 pm,the student will be charged an extra day.\n",
    "If the book is rented on Sunday, the student will get 50% off for as long as they keep the book.\n",
    "If the book is rented on Saturday, the student will get 30% off for as long as they keep the book.\n",
    "We need to write the code to meet this requirements.\n",
    "#XYZ Book Rented Amount Calculator\n",
    "ontime= input('Was book returned before 9pm? y or n:').lower()\n",
    "days_rented=int(input('How many days was book rented?'))\n",
    "day_rented=input('What day the Book rented?').capitalize()\n",
    "cost_per_day=3.00\n",
    "if ontime=='n':\n",
    "    days_rented=days_rented+1\n",
    "if day_rented=='Sunday':\n",
    "    total=(days_rented*cost_per_day)*0.5\n",
    "elif day_rented=='Saturday':\n",
    "    total=(days_rented*cost_per_day)*0.7\n",
    "else:\n",
    "    total=(days_rented*cost_per_day)\n",
    "print('The Cost of Book Rental is:$',total)\n",
    "If the Book rented on 'Sunday',the number of days book rented is 5 and Book returned after 9 pm then \n",
    "What is the result?"
   ]
  },
  {
   "cell_type": "code",
   "execution_count": 79,
   "id": "598dcdf0",
   "metadata": {},
   "outputs": [
    {
     "name": "stdout",
     "output_type": "stream",
     "text": [
      "Was book returned before 9pm? y or n:n\n",
      "How many days was book rented?5\n",
      "What day the Book rented?Sunday\n",
      "The Cost of Book Rental is:$ 9.0\n"
     ]
    }
   ],
   "source": [
    "ontime= input('Was book returned before 9pm? y or n:').lower()\n",
    "days_rented=int(input('How many days was book rented?'))\n",
    "day_rented=input('What day the Book rented?').capitalize()\n",
    "cost_per_day=3.00\n",
    "if ontime== 'n':\n",
    "    days_rented=days_rented+1\n",
    "if day_rented=='Sunday':\n",
    "    total=(days_rented*cost_per_day)*0.5\n",
    "elif day_rented=='Saturday':\n",
    "    total=(days_rented*cost_per_day)*0.7\n",
    "else:\n",
    "    total=(days_rented*cost_per_day)\n",
    "print('The Cost of Book Rental is:$',total)"
   ]
  },
  {
   "cell_type": "code",
   "execution_count": null,
   "id": "d15bc785",
   "metadata": {},
   "outputs": [],
   "source": [
    "Q.39. We are developing one school automation application. If student marks between 80 and 100, then\n",
    "we have to offer 'A' grade.\n",
    "Which code block we have to use?"
   ]
  },
  {
   "cell_type": "code",
   "execution_count": null,
   "id": "103a53ad",
   "metadata": {},
   "outputs": [],
   "source": [
    "if 80<=marks<=100:\n",
    "    grade='A'"
   ]
  }
 ],
 "metadata": {
  "kernelspec": {
   "display_name": "Python 3 (ipykernel)",
   "language": "python",
   "name": "python3"
  },
  "language_info": {
   "codemirror_mode": {
    "name": "ipython",
    "version": 3
   },
   "file_extension": ".py",
   "mimetype": "text/x-python",
   "name": "python",
   "nbconvert_exporter": "python",
   "pygments_lexer": "ipython3",
   "version": "3.9.7"
  }
 },
 "nbformat": 4,
 "nbformat_minor": 5
}
