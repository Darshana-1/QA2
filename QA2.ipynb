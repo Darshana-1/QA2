{
 "cells": [
  {
   "cell_type": "code",
   "execution_count": null,
   "id": "a0e6a656",
   "metadata": {},
   "outputs": [],
   "source": [
    "Q.1.\n",
    "Which expression evaluates to 4?"
   ]
  },
  {
   "cell_type": "code",
   "execution_count": 1,
   "id": "80c5a3b8",
   "metadata": {},
   "outputs": [
    {
     "data": {
      "text/plain": [
       "1"
      ]
     },
     "execution_count": 1,
     "metadata": {},
     "output_type": "execute_result"
    }
   ],
   "source": [
    "7-2*3"
   ]
  },
  {
   "cell_type": "code",
   "execution_count": 2,
   "id": "a13244d2",
   "metadata": {},
   "outputs": [
    {
     "data": {
      "text/plain": [
       "0"
      ]
     },
     "execution_count": 2,
     "metadata": {},
     "output_type": "execute_result"
    }
   ],
   "source": [
    "7//2-3"
   ]
  },
  {
   "cell_type": "code",
   "execution_count": 3,
   "id": "2e705ea8",
   "metadata": {},
   "outputs": [
    {
     "data": {
      "text/plain": [
       "10.5"
      ]
     },
     "execution_count": 3,
     "metadata": {},
     "output_type": "execute_result"
    }
   ],
   "source": [
    "7/2*3"
   ]
  },
  {
   "cell_type": "code",
   "execution_count": 4,
   "id": "f496b2f6",
   "metadata": {},
   "outputs": [
    {
     "data": {
      "text/plain": [
       "4"
      ]
     },
     "execution_count": 4,
     "metadata": {},
     "output_type": "execute_result"
    }
   ],
   "source": [
    "7%2+3"
   ]
  },
  {
   "cell_type": "code",
   "execution_count": null,
   "id": "0acd150f",
   "metadata": {},
   "outputs": [],
   "source": []
  },
  {
   "cell_type": "code",
   "execution_count": null,
   "id": "a9ab4e5f",
   "metadata": {},
   "outputs": [],
   "source": [
    "Q.2. Consider the code:\n",
    "    from sys import argv\n",
    "    sum=0\n",
    "    for i in range(2,len(argv)):\n",
    "        sum+=float(argv[i])\n",
    "        print(\"The average of{0} is {1:.2f}\" .format(argv[1], sum/(len(argv)-2)))\n",
    "Which of the following command invocation will generate the output?\n",
    "The average for Sachin is 20.0"
   ]
  },
  {
   "cell_type": "code",
   "execution_count": 23,
   "id": "a8b31174",
   "metadata": {},
   "outputs": [
    {
     "ename": "ValueError",
     "evalue": "could not convert string to float: 'C:\\\\Users\\\\Admin\\\\AppData\\\\Roaming\\\\jupyter\\\\runtime\\\\kernel-5886e6fa-750b-44f7-9de7-10f08f035fd7.json'",
     "output_type": "error",
     "traceback": [
      "\u001b[1;31m---------------------------------------------------------------------------\u001b[0m",
      "\u001b[1;31mValueError\u001b[0m                                Traceback (most recent call last)",
      "\u001b[1;32m~\\AppData\\Local\\Temp/ipykernel_8044/1361743839.py\u001b[0m in \u001b[0;36m<module>\u001b[1;34m\u001b[0m\n\u001b[0;32m      2\u001b[0m \u001b[0msum\u001b[0m\u001b[1;33m=\u001b[0m\u001b[1;36m0\u001b[0m\u001b[1;33m\u001b[0m\u001b[1;33m\u001b[0m\u001b[0m\n\u001b[0;32m      3\u001b[0m \u001b[1;32mfor\u001b[0m \u001b[0mi\u001b[0m \u001b[1;32min\u001b[0m \u001b[0mrange\u001b[0m\u001b[1;33m(\u001b[0m\u001b[1;36m2\u001b[0m\u001b[1;33m,\u001b[0m\u001b[0mlen\u001b[0m\u001b[1;33m(\u001b[0m\u001b[0margv\u001b[0m\u001b[1;33m)\u001b[0m\u001b[1;33m)\u001b[0m\u001b[1;33m:\u001b[0m\u001b[1;33m\u001b[0m\u001b[1;33m\u001b[0m\u001b[0m\n\u001b[1;32m----> 4\u001b[1;33m     \u001b[0msum\u001b[0m\u001b[1;33m+=\u001b[0m\u001b[0mfloat\u001b[0m\u001b[1;33m(\u001b[0m\u001b[0margv\u001b[0m\u001b[1;33m[\u001b[0m\u001b[0mi\u001b[0m\u001b[1;33m]\u001b[0m\u001b[1;33m)\u001b[0m\u001b[1;33m\u001b[0m\u001b[1;33m\u001b[0m\u001b[0m\n\u001b[0m\u001b[0;32m      5\u001b[0m \u001b[0mprint\u001b[0m\u001b[1;33m(\u001b[0m\u001b[1;34m\"The average of {0} is {1:.2f}\"\u001b[0m\u001b[1;33m.\u001b[0m\u001b[0mformat\u001b[0m\u001b[1;33m(\u001b[0m\u001b[0margv\u001b[0m\u001b[1;33m[\u001b[0m\u001b[1;36m1\u001b[0m\u001b[1;33m]\u001b[0m\u001b[1;33m,\u001b[0m\u001b[0msum\u001b[0m\u001b[1;33m/\u001b[0m\u001b[1;33m(\u001b[0m\u001b[0mlen\u001b[0m\u001b[1;33m(\u001b[0m\u001b[0margv\u001b[0m\u001b[1;33m)\u001b[0m\u001b[1;33m-\u001b[0m\u001b[1;36m2\u001b[0m\u001b[1;33m)\u001b[0m\u001b[1;33m)\u001b[0m\u001b[1;33m)\u001b[0m\u001b[1;33m\u001b[0m\u001b[1;33m\u001b[0m\u001b[0m\n\u001b[0;32m      6\u001b[0m \u001b[0mpytest\u001b[0m\u001b[1;33m.\u001b[0m\u001b[0mpySachin102030\u001b[0m\u001b[1;33m\u001b[0m\u001b[1;33m\u001b[0m\u001b[0m\n",
      "\u001b[1;31mValueError\u001b[0m: could not convert string to float: 'C:\\\\Users\\\\Admin\\\\AppData\\\\Roaming\\\\jupyter\\\\runtime\\\\kernel-5886e6fa-750b-44f7-9de7-10f08f035fd7.json'"
     ]
    }
   ],
   "source": [
    "from sys import argv\n",
    "sum=0\n",
    "for i in range(2,len(argv)):\n",
    "    sum+=float(argv[i])\n",
    "print(\"The average of {0} is {1:.2f}\".format(argv[1],sum/(len(argv)-2)))\n",
    "pytest.pySachin102030"
   ]
  },
  {
   "cell_type": "code",
   "execution_count": null,
   "id": "24d500f8",
   "metadata": {},
   "outputs": [],
   "source": [
    "Q.3. Consider the code:\n",
    "    from sys import argv\n",
    "    sum=0\n",
    "    for i in range(2,len(argv)):\n",
    "        sum+=float(argv[i])\n",
    "        print(\"The average of{0} is {1:.2f}\" .format(argv[1], sum/(len(argv)-2)))\n",
    "Which of the following command invocation will generate the output?\n",
    "The average for Durga is 20.00 "
   ]
  },
  {
   "cell_type": "code",
   "execution_count": 32,
   "id": "bd22f7bf",
   "metadata": {},
   "outputs": [
    {
     "ename": "NameError",
     "evalue": "name 'test' is not defined",
     "output_type": "error",
     "traceback": [
      "\u001b[1;31m---------------------------------------------------------------------------\u001b[0m",
      "\u001b[1;31mNameError\u001b[0m                                 Traceback (most recent call last)",
      "\u001b[1;32m~\\AppData\\Local\\Temp/ipykernel_8044/2914551447.py\u001b[0m in \u001b[0;36m<module>\u001b[1;34m\u001b[0m\n\u001b[1;32m----> 1\u001b[1;33m \u001b[0mtest\u001b[0m\u001b[1;33m.\u001b[0m\u001b[0mpyDurga102030\u001b[0m\u001b[1;33m\u001b[0m\u001b[1;33m\u001b[0m\u001b[0m\n\u001b[0m\u001b[0;32m      2\u001b[0m \u001b[1;32mfrom\u001b[0m \u001b[0msys\u001b[0m \u001b[1;32mimport\u001b[0m \u001b[0margv\u001b[0m\u001b[1;33m\u001b[0m\u001b[1;33m\u001b[0m\u001b[0m\n\u001b[0;32m      3\u001b[0m \u001b[0msum\u001b[0m\u001b[1;33m=\u001b[0m\u001b[1;36m0\u001b[0m\u001b[1;33m\u001b[0m\u001b[1;33m\u001b[0m\u001b[0m\n\u001b[0;32m      4\u001b[0m \u001b[1;32mfor\u001b[0m \u001b[0mi\u001b[0m \u001b[1;32min\u001b[0m \u001b[0mrange\u001b[0m\u001b[1;33m(\u001b[0m\u001b[1;36m2\u001b[0m\u001b[1;33m,\u001b[0m\u001b[0mlen\u001b[0m\u001b[1;33m(\u001b[0m\u001b[0margv\u001b[0m\u001b[1;33m)\u001b[0m\u001b[1;33m)\u001b[0m\u001b[1;33m:\u001b[0m\u001b[1;33m\u001b[0m\u001b[1;33m\u001b[0m\u001b[0m\n\u001b[0;32m      5\u001b[0m     \u001b[0msum\u001b[0m\u001b[1;33m+=\u001b[0m\u001b[0mfloat\u001b[0m\u001b[1;33m(\u001b[0m\u001b[0margv\u001b[0m\u001b[1;33m[\u001b[0m\u001b[0mi\u001b[0m\u001b[1;33m]\u001b[0m\u001b[1;33m)\u001b[0m\u001b[1;33m\u001b[0m\u001b[1;33m\u001b[0m\u001b[0m\n",
      "\u001b[1;31mNameError\u001b[0m: name 'test' is not defined"
     ]
    }
   ],
   "source": [
    "test.pyDurga102030\n",
    "from sys import argv\n",
    "sum=0\n",
    "for i in range(2,len(argv)):\n",
    "    sum+=float(argv[i])\n",
    "print(\"The average of {0} is {1:.2f}\".format(argv[1],sum/(len(argv)-2)))\n"
   ]
  },
  {
   "cell_type": "code",
   "execution_count": null,
   "id": "a8f685d5",
   "metadata": {},
   "outputs": [],
   "source": [
    "Q.4. Consider the code:\n",
    "    x=3\n",
    "    x+=1\n",
    "    #line-1\n",
    "    Which line should be inserted in Line-1 so that x value will become 16?"
   ]
  },
  {
   "cell_type": "code",
   "execution_count": 12,
   "id": "71116278",
   "metadata": {},
   "outputs": [
    {
     "data": {
      "text/plain": [
       "16"
      ]
     },
     "execution_count": 12,
     "metadata": {},
     "output_type": "execute_result"
    }
   ],
   "source": [
    "x=3\n",
    "x+=1\n",
    "x**2"
   ]
  },
  {
   "cell_type": "code",
   "execution_count": 13,
   "id": "320cfa05",
   "metadata": {},
   "outputs": [
    {
     "data": {
      "text/plain": [
       "8"
      ]
     },
     "execution_count": 13,
     "metadata": {},
     "output_type": "execute_result"
    }
   ],
   "source": [
    "x=3\n",
    "x+=1\n",
    "x*2"
   ]
  },
  {
   "cell_type": "code",
   "execution_count": 17,
   "id": "80028cae",
   "metadata": {},
   "outputs": [],
   "source": [
    "x=3\n",
    "x+=1\n",
    "x+=2"
   ]
  },
  {
   "cell_type": "code",
   "execution_count": 18,
   "id": "3b5b9ecf",
   "metadata": {},
   "outputs": [],
   "source": [
    "x=3\n",
    "x+=1\n",
    "x-=2"
   ]
  },
  {
   "cell_type": "code",
   "execution_count": null,
   "id": "0007f158",
   "metadata": {},
   "outputs": [],
   "source": []
  },
  {
   "cell_type": "code",
   "execution_count": null,
   "id": "b9a22de8",
   "metadata": {},
   "outputs": [],
   "source": [
    "Q.5.Consider the following code:\n",
    "    print(type(input(\"Enter some value:\")))\n",
    "    If we enter 10 and 10.0 individually for evry run what is the output?"
   ]
  },
  {
   "cell_type": "code",
   "execution_count": 23,
   "id": "1aac42b1",
   "metadata": {},
   "outputs": [
    {
     "name": "stdout",
     "output_type": "stream",
     "text": [
      "Enter some value:10\n",
      "<class 'str'>\n"
     ]
    }
   ],
   "source": [
    " print(type(input(\"Enter some value:\")))"
   ]
  },
  {
   "cell_type": "code",
   "execution_count": 24,
   "id": "262a1f16",
   "metadata": {},
   "outputs": [
    {
     "name": "stdout",
     "output_type": "stream",
     "text": [
      "Enter some value:10.0\n",
      "<class 'str'>\n"
     ]
    }
   ],
   "source": [
    " print(type(input(\"Enter some value:\")))"
   ]
  },
  {
   "cell_type": "code",
   "execution_count": null,
   "id": "f0de4122",
   "metadata": {},
   "outputs": [],
   "source": [
    "Q.6. Consider the python code:\n",
    "a=['a','b','c','d']\n",
    "for i in a:\n",
    "    a.append(i.upper())\n",
    "    print('a')"
   ]
  },
  {
   "cell_type": "code",
   "execution_count": null,
   "id": "7728fb87",
   "metadata": {},
   "outputs": [],
   "source": [
    "memory error"
   ]
  },
  {
   "cell_type": "code",
   "execution_count": null,
   "id": "26fa1eb8",
   "metadata": {},
   "outputs": [],
   "source": [
    "Q.6. Consider the variable delaration:\n",
    "    a='5'\n",
    "    b='2'\n",
    "    which of the following expression are of type string?"
   ]
  },
  {
   "cell_type": "code",
   "execution_count": 4,
   "id": "206f8027",
   "metadata": {},
   "outputs": [],
   "source": [
    "a='5'\n",
    "b='2'"
   ]
  },
  {
   "cell_type": "code",
   "execution_count": 5,
   "id": "8c3eb617",
   "metadata": {},
   "outputs": [
    {
     "ename": "TypeError",
     "evalue": "can't multiply sequence by non-int of type 'str'",
     "output_type": "error",
     "traceback": [
      "\u001b[1;31m---------------------------------------------------------------------------\u001b[0m",
      "\u001b[1;31mTypeError\u001b[0m                                 Traceback (most recent call last)",
      "\u001b[1;32m~\\AppData\\Local\\Temp/ipykernel_8500/3406537589.py\u001b[0m in \u001b[0;36m<module>\u001b[1;34m\u001b[0m\n\u001b[1;32m----> 1\u001b[1;33m \u001b[0mtype\u001b[0m\u001b[1;33m(\u001b[0m\u001b[0ma\u001b[0m\u001b[1;33m*\u001b[0m\u001b[0mb\u001b[0m\u001b[1;33m)\u001b[0m\u001b[1;33m\u001b[0m\u001b[1;33m\u001b[0m\u001b[0m\n\u001b[0m",
      "\u001b[1;31mTypeError\u001b[0m: can't multiply sequence by non-int of type 'str'"
     ]
    }
   ],
   "source": [
    "type(a*b)"
   ]
  },
  {
   "cell_type": "code",
   "execution_count": 36,
   "id": "58050a72",
   "metadata": {},
   "outputs": [
    {
     "data": {
      "text/plain": [
       "'55'"
      ]
     },
     "execution_count": 36,
     "metadata": {},
     "output_type": "execute_result"
    }
   ],
   "source": [
    "a*2"
   ]
  },
  {
   "cell_type": "code",
   "execution_count": 41,
   "id": "4534ace1",
   "metadata": {},
   "outputs": [
    {
     "data": {
      "text/plain": [
       "str"
      ]
     },
     "execution_count": 41,
     "metadata": {},
     "output_type": "execute_result"
    }
   ],
   "source": [
    "type(a*2)"
   ]
  },
  {
   "cell_type": "code",
   "execution_count": 38,
   "id": "086b6309",
   "metadata": {},
   "outputs": [
    {
     "data": {
      "text/plain": [
       "str"
      ]
     },
     "execution_count": 38,
     "metadata": {},
     "output_type": "execute_result"
    }
   ],
   "source": [
    "type(a+b)"
   ]
  },
  {
   "cell_type": "code",
   "execution_count": 42,
   "id": "018cbb9e",
   "metadata": {},
   "outputs": [
    {
     "ename": "TypeError",
     "evalue": "unsupported operand type(s) for -: 'str' and 'str'",
     "output_type": "error",
     "traceback": [
      "\u001b[1;31m---------------------------------------------------------------------------\u001b[0m",
      "\u001b[1;31mTypeError\u001b[0m                                 Traceback (most recent call last)",
      "\u001b[1;32m~\\AppData\\Local\\Temp/ipykernel_1336/4075160616.py\u001b[0m in \u001b[0;36m<module>\u001b[1;34m\u001b[0m\n\u001b[1;32m----> 1\u001b[1;33m \u001b[0mtype\u001b[0m\u001b[1;33m(\u001b[0m\u001b[0ma\u001b[0m\u001b[1;33m-\u001b[0m\u001b[0mb\u001b[0m\u001b[1;33m)\u001b[0m\u001b[1;33m\u001b[0m\u001b[1;33m\u001b[0m\u001b[0m\n\u001b[0m",
      "\u001b[1;31mTypeError\u001b[0m: unsupported operand type(s) for -: 'str' and 'str'"
     ]
    }
   ],
   "source": [
    "type(a-b)"
   ]
  },
  {
   "cell_type": "code",
   "execution_count": null,
   "id": "85b3cef4",
   "metadata": {},
   "outputs": [],
   "source": [
    "Q.7. Consider the code:\n",
    "print(type(eval(input(\"Enter some value:\"))))\n",
    "If we enter 10 and 10.0 invidually for evry run what is the output?"
   ]
  },
  {
   "cell_type": "code",
   "execution_count": 44,
   "id": "353ae5c9",
   "metadata": {},
   "outputs": [
    {
     "name": "stdout",
     "output_type": "stream",
     "text": [
      "Enter some value:10\n",
      "<class 'int'>\n"
     ]
    }
   ],
   "source": [
    "print(type(eval(input(\"Enter some value:\"))))"
   ]
  },
  {
   "cell_type": "code",
   "execution_count": 45,
   "id": "d75554ce",
   "metadata": {},
   "outputs": [
    {
     "name": "stdout",
     "output_type": "stream",
     "text": [
      "Enter some value:10.0\n",
      "<class 'float'>\n"
     ]
    }
   ],
   "source": [
    "print(type(eval(input(\"Enter some value:\"))))"
   ]
  },
  {
   "cell_type": "code",
   "execution_count": null,
   "id": "c1afaadc",
   "metadata": {},
   "outputs": [],
   "source": [
    "Q.8. Consider the code:\n",
    "    a=7\n",
    "    b=3\n",
    "    c=5\n",
    "    d=1\n",
    "    which line of the code assigns 9 to the output?"
   ]
  },
  {
   "cell_type": "code",
   "execution_count": 46,
   "id": "ab5bc746",
   "metadata": {},
   "outputs": [],
   "source": [
    "a=7\n",
    "b=3\n",
    "c=5\n",
    "d=1"
   ]
  },
  {
   "cell_type": "code",
   "execution_count": 50,
   "id": "eecee665",
   "metadata": {},
   "outputs": [],
   "source": [
    "output=a%c+1"
   ]
  },
  {
   "cell_type": "code",
   "execution_count": 51,
   "id": "bdc21bba",
   "metadata": {},
   "outputs": [
    {
     "data": {
      "text/plain": [
       "3"
      ]
     },
     "execution_count": 51,
     "metadata": {},
     "output_type": "execute_result"
    }
   ],
   "source": [
    "output"
   ]
  },
  {
   "cell_type": "code",
   "execution_count": 52,
   "id": "37dc21d9",
   "metadata": {},
   "outputs": [],
   "source": [
    "output=a+d*2"
   ]
  },
  {
   "cell_type": "code",
   "execution_count": 53,
   "id": "9af1bee1",
   "metadata": {},
   "outputs": [
    {
     "data": {
      "text/plain": [
       "9"
      ]
     },
     "execution_count": 53,
     "metadata": {},
     "output_type": "execute_result"
    }
   ],
   "source": [
    "output"
   ]
  },
  {
   "cell_type": "code",
   "execution_count": 54,
   "id": "cccf7ec7",
   "metadata": {},
   "outputs": [],
   "source": [
    "output=a+c//d"
   ]
  },
  {
   "cell_type": "code",
   "execution_count": 55,
   "id": "ce8c6ab8",
   "metadata": {},
   "outputs": [
    {
     "data": {
      "text/plain": [
       "12"
      ]
     },
     "execution_count": 55,
     "metadata": {},
     "output_type": "execute_result"
    }
   ],
   "source": [
    "output"
   ]
  },
  {
   "cell_type": "code",
   "execution_count": 56,
   "id": "ca56cf54",
   "metadata": {},
   "outputs": [],
   "source": [
    "output=c*d-1"
   ]
  },
  {
   "cell_type": "code",
   "execution_count": 57,
   "id": "5dd1c8e1",
   "metadata": {},
   "outputs": [
    {
     "data": {
      "text/plain": [
       "4"
      ]
     },
     "execution_count": 57,
     "metadata": {},
     "output_type": "execute_result"
    }
   ],
   "source": [
    "output"
   ]
  },
  {
   "cell_type": "code",
   "execution_count": null,
   "id": "70a92fcb",
   "metadata": {},
   "outputs": [],
   "source": [
    "Q.9.Consider the code:\n",
    "from sys import argv\n",
    "print(argv[0])\n",
    "and given the command invocation"
   ]
  },
  {
   "cell_type": "code",
   "execution_count": 62,
   "id": "282f41cb",
   "metadata": {},
   "outputs": [
    {
     "name": "stdout",
     "output_type": "stream",
     "text": [
      "C:\\Users\\Admin\\anaconda3\\lib\\site-packages\\ipykernel_launcher.py\n"
     ]
    },
    {
     "ename": "NameError",
     "evalue": "name 'test' is not defined",
     "output_type": "error",
     "traceback": [
      "\u001b[1;31m---------------------------------------------------------------------------\u001b[0m",
      "\u001b[1;31mNameError\u001b[0m                                 Traceback (most recent call last)",
      "\u001b[1;32m~\\AppData\\Local\\Temp/ipykernel_1336/2302516405.py\u001b[0m in \u001b[0;36m<module>\u001b[1;34m\u001b[0m\n\u001b[0;32m      1\u001b[0m \u001b[1;32mfrom\u001b[0m \u001b[0msys\u001b[0m \u001b[1;32mimport\u001b[0m \u001b[0margv\u001b[0m\u001b[1;33m\u001b[0m\u001b[1;33m\u001b[0m\u001b[0m\n\u001b[0;32m      2\u001b[0m \u001b[0mprint\u001b[0m\u001b[1;33m(\u001b[0m\u001b[0margv\u001b[0m\u001b[1;33m[\u001b[0m\u001b[1;36m0\u001b[0m\u001b[1;33m]\u001b[0m\u001b[1;33m)\u001b[0m\u001b[1;33m\u001b[0m\u001b[1;33m\u001b[0m\u001b[0m\n\u001b[1;32m----> 3\u001b[1;33m \u001b[0mtest\u001b[0m\u001b[1;33m.\u001b[0m\u001b[0mpyBHARATSOFT\u001b[0m\u001b[1;33m\u001b[0m\u001b[1;33m\u001b[0m\u001b[0m\n\u001b[0m",
      "\u001b[1;31mNameError\u001b[0m: name 'test' is not defined"
     ]
    }
   ],
   "source": [
    "from sys import argv\n",
    "print(argv[0])\n",
    "test.pyBHARATSOFT"
   ]
  },
  {
   "cell_type": "code",
   "execution_count": null,
   "id": "a716b539",
   "metadata": {},
   "outputs": [],
   "source": []
  },
  {
   "cell_type": "code",
   "execution_count": null,
   "id": "80b9eda9",
   "metadata": {},
   "outputs": [],
   "source": [
    "Q.10. Consider the following expression:\n",
    "6//4%4+2**3-2//3\n",
    "This expression results to:"
   ]
  },
  {
   "cell_type": "code",
   "execution_count": 63,
   "id": "14208b06",
   "metadata": {},
   "outputs": [
    {
     "data": {
      "text/plain": [
       "9"
      ]
     },
     "execution_count": 63,
     "metadata": {},
     "output_type": "execute_result"
    }
   ],
   "source": [
    "6//4%4+2**3-2//3"
   ]
  },
  {
   "cell_type": "code",
   "execution_count": null,
   "id": "6d7b30a0",
   "metadata": {},
   "outputs": [],
   "source": [
    "Q.11. x='TEXT'\n",
    "which line of the code will assign 'TT' to the output?"
   ]
  },
  {
   "cell_type": "code",
   "execution_count": 67,
   "id": "1a38b44b",
   "metadata": {},
   "outputs": [],
   "source": [
    "x='TEXT'\n",
    "output=x[0]+x[-1]"
   ]
  },
  {
   "cell_type": "code",
   "execution_count": 68,
   "id": "28d992ea",
   "metadata": {},
   "outputs": [
    {
     "data": {
      "text/plain": [
       "'TT'"
      ]
     },
     "execution_count": 68,
     "metadata": {},
     "output_type": "execute_result"
    }
   ],
   "source": [
    "output"
   ]
  },
  {
   "cell_type": "code",
   "execution_count": 69,
   "id": "74b392ba",
   "metadata": {},
   "outputs": [],
   "source": [
    "output=x[0]+x[2]"
   ]
  },
  {
   "cell_type": "code",
   "execution_count": 70,
   "id": "803bccca",
   "metadata": {},
   "outputs": [
    {
     "data": {
      "text/plain": [
       "'TX'"
      ]
     },
     "execution_count": 70,
     "metadata": {},
     "output_type": "execute_result"
    }
   ],
   "source": [
    "output"
   ]
  },
  {
   "cell_type": "code",
   "execution_count": 71,
   "id": "a3fe1a8e",
   "metadata": {},
   "outputs": [],
   "source": [
    "output=x[1]+x[1]"
   ]
  },
  {
   "cell_type": "code",
   "execution_count": 72,
   "id": "b0caa954",
   "metadata": {},
   "outputs": [
    {
     "data": {
      "text/plain": [
       "'EE'"
      ]
     },
     "execution_count": 72,
     "metadata": {},
     "output_type": "execute_result"
    }
   ],
   "source": [
    "output"
   ]
  },
  {
   "cell_type": "code",
   "execution_count": 73,
   "id": "1f3283ff",
   "metadata": {},
   "outputs": [
    {
     "ename": "IndexError",
     "evalue": "string index out of range",
     "output_type": "error",
     "traceback": [
      "\u001b[1;31m---------------------------------------------------------------------------\u001b[0m",
      "\u001b[1;31mIndexError\u001b[0m                                Traceback (most recent call last)",
      "\u001b[1;32m~\\AppData\\Local\\Temp/ipykernel_1336/341496918.py\u001b[0m in \u001b[0;36m<module>\u001b[1;34m\u001b[0m\n\u001b[1;32m----> 1\u001b[1;33m \u001b[0moutput\u001b[0m\u001b[1;33m=\u001b[0m\u001b[0mx\u001b[0m\u001b[1;33m[\u001b[0m\u001b[1;36m1\u001b[0m\u001b[1;33m]\u001b[0m\u001b[1;33m+\u001b[0m\u001b[0mx\u001b[0m\u001b[1;33m[\u001b[0m\u001b[1;36m4\u001b[0m\u001b[1;33m]\u001b[0m\u001b[1;33m\u001b[0m\u001b[1;33m\u001b[0m\u001b[0m\n\u001b[0m",
      "\u001b[1;31mIndexError\u001b[0m: string index out of range"
     ]
    }
   ],
   "source": [
    "output=x[1]+x[4]"
   ]
  },
  {
   "cell_type": "code",
   "execution_count": 74,
   "id": "4c156063",
   "metadata": {},
   "outputs": [
    {
     "data": {
      "text/plain": [
       "'EE'"
      ]
     },
     "execution_count": 74,
     "metadata": {},
     "output_type": "execute_result"
    }
   ],
   "source": [
    "output"
   ]
  },
  {
   "cell_type": "code",
   "execution_count": null,
   "id": "f32343a5",
   "metadata": {},
   "outputs": [],
   "source": [
    "Q.12. Consider the python code:\n",
    "print(10==10 and 20!=20)\n",
    "print(10==10 or 20!=20)\n",
    "print( not 10==10)\n",
    "What is the result?"
   ]
  },
  {
   "cell_type": "code",
   "execution_count": 75,
   "id": "da07e6af",
   "metadata": {},
   "outputs": [
    {
     "name": "stdout",
     "output_type": "stream",
     "text": [
      "False\n",
      "True\n",
      "False\n"
     ]
    }
   ],
   "source": [
    "print(10==10 and 20!=20)\n",
    "print(10==10 or 20!=20)\n",
    "print( not 10==10)"
   ]
  },
  {
   "cell_type": "code",
   "execution_count": null,
   "id": "0a6f0c38",
   "metadata": {},
   "outputs": [],
   "source": [
    "Q.13.Consider the code:\n",
    "a=float('123.456')\n",
    "Which expression evaluates to 2?"
   ]
  },
  {
   "cell_type": "code",
   "execution_count": 76,
   "id": "7e980c6a",
   "metadata": {},
   "outputs": [
    {
     "data": {
      "text/plain": [
       "True"
      ]
     },
     "execution_count": 76,
     "metadata": {},
     "output_type": "execute_result"
    }
   ],
   "source": [
    "a=float('123.456')\n",
    "bool(a)"
   ]
  },
  {
   "cell_type": "code",
   "execution_count": 77,
   "id": "b430db5a",
   "metadata": {},
   "outputs": [
    {
     "data": {
      "text/plain": [
       "123"
      ]
     },
     "execution_count": 77,
     "metadata": {},
     "output_type": "execute_result"
    }
   ],
   "source": [
    "int(a)+False"
   ]
  },
  {
   "cell_type": "code",
   "execution_count": 78,
   "id": "67bb7e75",
   "metadata": {},
   "outputs": [
    {
     "data": {
      "text/plain": [
       "'123.456'"
      ]
     },
     "execution_count": 78,
     "metadata": {},
     "output_type": "execute_result"
    }
   ],
   "source": [
    "str(a)"
   ]
  },
  {
   "cell_type": "code",
   "execution_count": 79,
   "id": "614cb2a2",
   "metadata": {},
   "outputs": [
    {
     "data": {
      "text/plain": [
       "2"
      ]
     },
     "execution_count": 79,
     "metadata": {},
     "output_type": "execute_result"
    }
   ],
   "source": [
    "bool(a)+True"
   ]
  },
  {
   "cell_type": "code",
   "execution_count": null,
   "id": "729f2620",
   "metadata": {},
   "outputs": [],
   "source": [
    "Q.14.You are intern for XYZ car company.You have tocreate a function that calculates the average velocity of vehicle on \n",
    "2640 foot(1/2 mile) track. Consider the python code:\n",
    "    distance=xxx(input(\"Enter the distance traveled in feet:\"))\n",
    "    distance_miles=distance/5280\n",
    "    time=yyy(input(\"Enter the time elapsed in seconds:\"))\n",
    "    time_hours=time/3600\n",
    "    velocity=distance_miles/time_hours\n",
    "    print ('The average velocity:', velocity,'miles/hour')\n",
    "To generate most precise output, which modifications should be done at line1 and line2?"
   ]
  },
  {
   "cell_type": "code",
   "execution_count": 17,
   "id": "cd3cc60a",
   "metadata": {},
   "outputs": [
    {
     "name": "stdout",
     "output_type": "stream",
     "text": [
      "Enter the distance travelled in feet:9876.55\n",
      "Enter the time elapsed in seconds:3456.88\n",
      "The average velocity: 1.948002639269041 miles/hour\n"
     ]
    }
   ],
   "source": [
    "distance=float(input(\"Enter the distance travelled in feet:\"))\n",
    "distance_miles=distance/5280\n",
    "time=float(input(\"Enter the time elapsed in seconds:\"))\n",
    "time_hours=time/3600\n",
    "velocity=distance_miles/time_hours\n",
    "print ('The average velocity:', velocity,'miles/hour')"
   ]
  },
  {
   "cell_type": "code",
   "execution_count": 19,
   "id": "8982943a",
   "metadata": {},
   "outputs": [
    {
     "name": "stdout",
     "output_type": "stream",
     "text": [
      "Enter the distance travelled in feet:5674\n",
      "Enter the time elapsed in seconds:3245\n",
      "The average velocity: 1.19218377924079 miles/hour\n"
     ]
    }
   ],
   "source": [
    "distance=int(input(\"Enter the distance travelled in feet:\"))\n",
    "distance_miles=distance/5280\n",
    "time=int(input(\"Enter the time elapsed in seconds:\"))\n",
    "time_hours=time/3600\n",
    "velocity=distance_miles/time_hours\n",
    "print ('The average velocity:', velocity,'miles/hour')"
   ]
  },
  {
   "cell_type": "code",
   "execution_count": 20,
   "id": "4bd3e08b",
   "metadata": {},
   "outputs": [
    {
     "name": "stdout",
     "output_type": "stream",
     "text": [
      "Enter the distance travelled in feet:6547.99\n",
      "Enter the time elapsed in seconds:4352\n",
      "The average velocity: 1.0258590616644385 miles/hour\n"
     ]
    }
   ],
   "source": [
    "distance=float(input(\"Enter the distance travelled in feet:\"))\n",
    "distance_miles=distance/5280\n",
    "time=int(input(\"Enter the time elapsed in seconds:\"))\n",
    "time_hours=time/3600\n",
    "velocity=distance_miles/time_hours\n",
    "print ('The average velocity:', velocity,'miles/hour')"
   ]
  },
  {
   "cell_type": "code",
   "execution_count": 21,
   "id": "4b17f321",
   "metadata": {},
   "outputs": [
    {
     "name": "stdout",
     "output_type": "stream",
     "text": [
      "Enter the distance travelled in feet:456\n",
      "Enter the time elapsed in seconds:543.9\n",
      "The average velocity: 0.5716291430577145 miles/hour\n"
     ]
    }
   ],
   "source": [
    "distance=int(input(\"Enter the distance travelled in feet:\"))\n",
    "distance_miles=distance/5280\n",
    "time=float(input(\"Enter the time elapsed in seconds:\"))\n",
    "time_hours=time/3600\n",
    "velocity=distance_miles/time_hours\n",
    "print ('The average velocity:', velocity,'miles/hour')"
   ]
  },
  {
   "cell_type": "code",
   "execution_count": null,
   "id": "7fbb9021",
   "metadata": {},
   "outputs": [],
   "source": [
    "# for more precise output xxx and yyy are replaced with floats."
   ]
  },
  {
   "cell_type": "code",
   "execution_count": null,
   "id": "4929e76b",
   "metadata": {},
   "outputs": [],
   "source": [
    "Q.15. The XYZ company has hired you as an intern on the coding team that creats an E-commerce application\n",
    "You must write a script that asks a user for a value. The value must be used as a whole number in a calculation, \n",
    "even if the users enter a decimal value.\n",
    "Which of the following meets this requirement?"
   ]
  },
  {
   "cell_type": "code",
   "execution_count": 23,
   "id": "407c89f7",
   "metadata": {},
   "outputs": [
    {
     "name": "stdout",
     "output_type": "stream",
     "text": [
      "How many items you required?78.9\n"
     ]
    }
   ],
   "source": [
    "total_items= str(input('How many items you required?'))"
   ]
  },
  {
   "cell_type": "code",
   "execution_count": 37,
   "id": "cadfde60",
   "metadata": {},
   "outputs": [
    {
     "name": "stdout",
     "output_type": "stream",
     "text": [
      "How many items you required?78.91\n"
     ]
    }
   ],
   "source": [
    "total_items= float(input('How many items you required?'))"
   ]
  },
  {
   "cell_type": "code",
   "execution_count": 38,
   "id": "11fd3b55",
   "metadata": {},
   "outputs": [
    {
     "name": "stdout",
     "output_type": "stream",
     "text": [
      "How many items you required?876\n"
     ]
    }
   ],
   "source": [
    "total_items= int(float(input('How many items you required?')))"
   ]
  },
  {
   "cell_type": "code",
   "execution_count": 36,
   "id": "0d7f422b",
   "metadata": {},
   "outputs": [
    {
     "name": "stdout",
     "output_type": "stream",
     "text": [
      "How many items you required?67\n"
     ]
    }
   ],
   "source": [
    "total_items= (input('How many items you required?'))"
   ]
  },
  {
   "cell_type": "code",
   "execution_count": null,
   "id": "a849c708",
   "metadata": {},
   "outputs": [],
   "source": [
    "Q.16. In which of the following case, True will be printed to the console?\n"
   ]
  },
  {
   "cell_type": "code",
   "execution_count": 39,
   "id": "e04f19a8",
   "metadata": {},
   "outputs": [
    {
     "name": "stdout",
     "output_type": "stream",
     "text": [
      "True\n"
     ]
    }
   ],
   "source": [
    "print ('r' in 'Durga')"
   ]
  },
  {
   "cell_type": "code",
   "execution_count": 40,
   "id": "6855f7e9",
   "metadata": {},
   "outputs": [
    {
     "name": "stdout",
     "output_type": "stream",
     "text": [
      "False\n"
     ]
    }
   ],
   "source": [
    "a=45\n",
    "b=45\n",
    "print(a is not b)"
   ]
  },
  {
   "cell_type": "code",
   "execution_count": 41,
   "id": "77f26418",
   "metadata": {},
   "outputs": [
    {
     "name": "stdout",
     "output_type": "stream",
     "text": [
      "s1 is s2\n"
     ]
    }
   ],
   "source": [
    "s1= 'The python course'\n",
    "s2= 'The python course'.upper()\n",
    "print('s1 is s2')"
   ]
  },
  {
   "cell_type": "code",
   "execution_count": 43,
   "id": "19263331",
   "metadata": {},
   "outputs": [
    {
     "name": "stdout",
     "output_type": "stream",
     "text": [
      "False\n"
     ]
    }
   ],
   "source": [
    "print('is' in 'THIS IS a Fake News')"
   ]
  },
  {
   "cell_type": "code",
   "execution_count": 44,
   "id": "9f95287b",
   "metadata": {},
   "outputs": [
    {
     "name": "stdout",
     "output_type": "stream",
     "text": [
      "x is y\n"
     ]
    }
   ],
   "source": [
    "x=[1,2,3]\n",
    "y=[1,2,3]\n",
    "print('x is y')"
   ]
  },
  {
   "cell_type": "code",
   "execution_count": null,
   "id": "65a4735a",
   "metadata": {},
   "outputs": [],
   "source": [
    "Q.17. Consider the code:\n",
    "    x=2\n",
    "    y=6\n",
    "    x+=2**3\n",
    "    x//-y//2//3\n",
    "    print(x)\n",
    "    What is the output?"
   ]
  },
  {
   "cell_type": "code",
   "execution_count": 45,
   "id": "d4a56a0e",
   "metadata": {},
   "outputs": [
    {
     "name": "stdout",
     "output_type": "stream",
     "text": [
      "10\n"
     ]
    }
   ],
   "source": [
    "x=2\n",
    "y=6\n",
    "x+=2**3\n",
    "x//-y//2//3\n",
    "print(x)"
   ]
  },
  {
   "cell_type": "code",
   "execution_count": null,
   "id": "5d2b2d1e",
   "metadata": {},
   "outputs": [],
   "source": [
    "Q.18. Given the command invocation\n",
    "pytest.pyDurga\n",
    "Which of the following code prints Durga to the console?"
   ]
  },
  {
   "cell_type": "code",
   "execution_count": 55,
   "id": "4b0e9218",
   "metadata": {},
   "outputs": [
    {
     "ename": "NameError",
     "evalue": "name 'pytest' is not defined",
     "output_type": "error",
     "traceback": [
      "\u001b[1;31m---------------------------------------------------------------------------\u001b[0m",
      "\u001b[1;31mNameError\u001b[0m                                 Traceback (most recent call last)",
      "\u001b[1;32m~\\AppData\\Local\\Temp/ipykernel_13396/2573290217.py\u001b[0m in \u001b[0;36m<module>\u001b[1;34m\u001b[0m\n\u001b[1;32m----> 1\u001b[1;33m \u001b[0mpytest\u001b[0m\u001b[1;33m.\u001b[0m\u001b[0mpyDurga\u001b[0m\u001b[1;33m\u001b[0m\u001b[1;33m\u001b[0m\u001b[0m\n\u001b[0m",
      "\u001b[1;31mNameError\u001b[0m: name 'pytest' is not defined"
     ]
    }
   ],
   "source": [
    "pytest.pyDurga"
   ]
  },
  {
   "cell_type": "code",
   "execution_count": 56,
   "id": "e8aa1396",
   "metadata": {},
   "outputs": [
    {
     "name": "stdout",
     "output_type": "stream",
     "text": [
      "-f\n"
     ]
    }
   ],
   "source": [
    "from sys import argv\n",
    "print(argv[1])"
   ]
  },
  {
   "cell_type": "code",
   "execution_count": 57,
   "id": "6a41571f",
   "metadata": {},
   "outputs": [
    {
     "ename": "ImportError",
     "evalue": "cannot import name 'args' from 'sys' (unknown location)",
     "output_type": "error",
     "traceback": [
      "\u001b[1;31m---------------------------------------------------------------------------\u001b[0m",
      "\u001b[1;31mImportError\u001b[0m                               Traceback (most recent call last)",
      "\u001b[1;32m~\\AppData\\Local\\Temp/ipykernel_13396/3369098581.py\u001b[0m in \u001b[0;36m<module>\u001b[1;34m\u001b[0m\n\u001b[1;32m----> 1\u001b[1;33m \u001b[1;32mfrom\u001b[0m \u001b[0msys\u001b[0m \u001b[1;32mimport\u001b[0m \u001b[0margs\u001b[0m\u001b[1;33m\u001b[0m\u001b[1;33m\u001b[0m\u001b[0m\n\u001b[0m\u001b[0;32m      2\u001b[0m \u001b[0mprint\u001b[0m\u001b[1;33m(\u001b[0m\u001b[0margs\u001b[0m\u001b[1;33m[\u001b[0m\u001b[1;36m1\u001b[0m\u001b[1;33m]\u001b[0m\u001b[1;33m)\u001b[0m\u001b[1;33m\u001b[0m\u001b[1;33m\u001b[0m\u001b[0m\n",
      "\u001b[1;31mImportError\u001b[0m: cannot import name 'args' from 'sys' (unknown location)"
     ]
    }
   ],
   "source": [
    "from sys import args\n",
    "print(args[1])"
   ]
  },
  {
   "cell_type": "code",
   "execution_count": 58,
   "id": "702b21e0",
   "metadata": {},
   "outputs": [
    {
     "name": "stdout",
     "output_type": "stream",
     "text": [
      "C:\\Users\\Admin\\anaconda3\\lib\\site-packages\\ipykernel_launcher.py\n"
     ]
    }
   ],
   "source": [
    "from sys import argv\n",
    "print(argv[0])"
   ]
  },
  {
   "cell_type": "code",
   "execution_count": 59,
   "id": "560bbd02",
   "metadata": {},
   "outputs": [
    {
     "ename": "ImportError",
     "evalue": "cannot import name 'args' from 'sys' (unknown location)",
     "output_type": "error",
     "traceback": [
      "\u001b[1;31m---------------------------------------------------------------------------\u001b[0m",
      "\u001b[1;31mImportError\u001b[0m                               Traceback (most recent call last)",
      "\u001b[1;32m~\\AppData\\Local\\Temp/ipykernel_13396/854761266.py\u001b[0m in \u001b[0;36m<module>\u001b[1;34m\u001b[0m\n\u001b[1;32m----> 1\u001b[1;33m \u001b[1;32mfrom\u001b[0m \u001b[0msys\u001b[0m \u001b[1;32mimport\u001b[0m \u001b[0margs\u001b[0m\u001b[1;33m\u001b[0m\u001b[1;33m\u001b[0m\u001b[0m\n\u001b[0m\u001b[0;32m      2\u001b[0m \u001b[0mprint\u001b[0m\u001b[1;33m(\u001b[0m\u001b[0margs\u001b[0m\u001b[1;33m[\u001b[0m\u001b[1;36m0\u001b[0m\u001b[1;33m]\u001b[0m\u001b[1;33m)\u001b[0m\u001b[1;33m\u001b[0m\u001b[1;33m\u001b[0m\u001b[0m\n",
      "\u001b[1;31mImportError\u001b[0m: cannot import name 'args' from 'sys' (unknown location)"
     ]
    }
   ],
   "source": [
    "from sys import args\n",
    "print(args[0])"
   ]
  },
  {
   "cell_type": "code",
   "execution_count": null,
   "id": "f08053f3",
   "metadata": {},
   "outputs": [],
   "source": [
    "Q.19. If the user enters 12345 as input, Which of the following code will print 12346 to the console?"
   ]
  },
  {
   "cell_type": "code",
   "execution_count": 60,
   "id": "5d3ff894",
   "metadata": {},
   "outputs": [
    {
     "name": "stdout",
     "output_type": "stream",
     "text": [
      "Enter count value: 3\n",
      "4\n"
     ]
    }
   ],
   "source": [
    "count= int(input('Enter count value: '))\n",
    "print(count+1)"
   ]
  },
  {
   "cell_type": "code",
   "execution_count": 61,
   "id": "8afb6a0e",
   "metadata": {},
   "outputs": [
    {
     "name": "stdout",
     "output_type": "stream",
     "text": [
      "Enter count value: 5\n",
      "6\n"
     ]
    }
   ],
   "source": [
    "count= eval(input('Enter count value: '))\n",
    "print(count+1)"
   ]
  },
  {
   "cell_type": "code",
   "execution_count": 62,
   "id": "80b45dc3",
   "metadata": {},
   "outputs": [
    {
     "name": "stdout",
     "output_type": "stream",
     "text": [
      "Enter count value: 4\n"
     ]
    },
    {
     "ename": "TypeError",
     "evalue": "can only concatenate str (not \"int\") to str",
     "output_type": "error",
     "traceback": [
      "\u001b[1;31m---------------------------------------------------------------------------\u001b[0m",
      "\u001b[1;31mTypeError\u001b[0m                                 Traceback (most recent call last)",
      "\u001b[1;32m~\\AppData\\Local\\Temp/ipykernel_13396/405833941.py\u001b[0m in \u001b[0;36m<module>\u001b[1;34m\u001b[0m\n\u001b[0;32m      1\u001b[0m \u001b[0mcount\u001b[0m\u001b[1;33m=\u001b[0m \u001b[0minput\u001b[0m\u001b[1;33m(\u001b[0m\u001b[1;34m'Enter count value: '\u001b[0m\u001b[1;33m)\u001b[0m\u001b[1;33m\u001b[0m\u001b[1;33m\u001b[0m\u001b[0m\n\u001b[1;32m----> 2\u001b[1;33m \u001b[0mprint\u001b[0m\u001b[1;33m(\u001b[0m\u001b[0mcount\u001b[0m\u001b[1;33m+\u001b[0m\u001b[1;36m1\u001b[0m\u001b[1;33m)\u001b[0m\u001b[1;33m\u001b[0m\u001b[1;33m\u001b[0m\u001b[0m\n\u001b[0m",
      "\u001b[1;31mTypeError\u001b[0m: can only concatenate str (not \"int\") to str"
     ]
    }
   ],
   "source": [
    "count= input('Enter count value: ')\n",
    "print(count+1)"
   ]
  },
  {
   "cell_type": "code",
   "execution_count": 63,
   "id": "e7908dd4",
   "metadata": {},
   "outputs": [
    {
     "name": "stdout",
     "output_type": "stream",
     "text": [
      "Enter count value: 45\n",
      "46\n"
     ]
    }
   ],
   "source": [
    "count= input('Enter count value: ')\n",
    "print(int(count)+1)"
   ]
  },
  {
   "cell_type": "code",
   "execution_count": null,
   "id": "e5072a5e",
   "metadata": {},
   "outputs": [],
   "source": [
    "Q. 20. Consider the code:\n",
    "    t=([10,20],10,False)\n",
    "    Which line of the code assigns<class'list'> to x?"
   ]
  },
  {
   "cell_type": "code",
   "execution_count": 64,
   "id": "8691930d",
   "metadata": {},
   "outputs": [],
   "source": [
    "t=([10,20],10,False)\n",
    "x=type(t[1])"
   ]
  },
  {
   "cell_type": "code",
   "execution_count": 65,
   "id": "2efc20a6",
   "metadata": {},
   "outputs": [],
   "source": [
    "x=type(t[0:])"
   ]
  },
  {
   "cell_type": "code",
   "execution_count": 66,
   "id": "fee7df8a",
   "metadata": {},
   "outputs": [],
   "source": [
    "x=type(t[0])"
   ]
  },
  {
   "cell_type": "code",
   "execution_count": 67,
   "id": "d37246c1",
   "metadata": {},
   "outputs": [],
   "source": [
    "x=type(t)"
   ]
  },
  {
   "cell_type": "code",
   "execution_count": null,
   "id": "cfdc7754",
   "metadata": {},
   "outputs": [],
   "source": [
    "Q.21. Which expression would evaluate to 2?"
   ]
  },
  {
   "cell_type": "code",
   "execution_count": 68,
   "id": "13125464",
   "metadata": {},
   "outputs": [
    {
     "data": {
      "text/plain": [
       "5.5"
      ]
     },
     "execution_count": 68,
     "metadata": {},
     "output_type": "execute_result"
    }
   ],
   "source": [
    "11/2"
   ]
  },
  {
   "cell_type": "code",
   "execution_count": 69,
   "id": "aa7530c8",
   "metadata": {},
   "outputs": [
    {
     "data": {
      "text/plain": [
       "2"
      ]
     },
     "execution_count": 69,
     "metadata": {},
     "output_type": "execute_result"
    }
   ],
   "source": [
    "22%5"
   ]
  },
  {
   "cell_type": "code",
   "execution_count": 70,
   "id": "bc248642",
   "metadata": {},
   "outputs": [
    {
     "data": {
      "text/plain": [
       "3"
      ]
     },
     "execution_count": 70,
     "metadata": {},
     "output_type": "execute_result"
    }
   ],
   "source": [
    "13//4"
   ]
  },
  {
   "cell_type": "code",
   "execution_count": 71,
   "id": "dd802530",
   "metadata": {},
   "outputs": [
    {
     "data": {
      "text/plain": [
       "9"
      ]
     },
     "execution_count": 71,
     "metadata": {},
     "output_type": "execute_result"
    }
   ],
   "source": [
    "3**2"
   ]
  },
  {
   "cell_type": "code",
   "execution_count": null,
   "id": "bd97b58e",
   "metadata": {},
   "outputs": [],
   "source": [
    "Q.22. Consider the code:\n",
    "    x=3/3+3**3-3\n",
    "    print(x)\n",
    "    What is the output?"
   ]
  },
  {
   "cell_type": "code",
   "execution_count": 73,
   "id": "a62370fb",
   "metadata": {},
   "outputs": [
    {
     "name": "stdout",
     "output_type": "stream",
     "text": [
      "25.0\n"
     ]
    }
   ],
   "source": [
    "x=3/3+3**3-3\n",
    "print(x)"
   ]
  },
  {
   "cell_type": "code",
   "execution_count": null,
   "id": "256790db",
   "metadata": {},
   "outputs": [],
   "source": [
    "Q.23. Consider the code:\n",
    "    result= str(bool(1)+float(10)/float(2))\n",
    "    print(result)\n",
    "    What is the output?"
   ]
  },
  {
   "cell_type": "code",
   "execution_count": 75,
   "id": "c27e03c7",
   "metadata": {},
   "outputs": [
    {
     "name": "stdout",
     "output_type": "stream",
     "text": [
      "6.0\n"
     ]
    }
   ],
   "source": [
    "result= str(bool(1)+float(10)/float(2))\n",
    "print(result)"
   ]
  },
  {
   "cell_type": "code",
   "execution_count": null,
   "id": "191feb82",
   "metadata": {},
   "outputs": [],
   "source": [
    "Q.24. Consider the code:\n",
    "    from sys import argv\n",
    "    print(argv[1]+argv[2])\n",
    "and given the command invocation:\n",
    "    py test.py 10 20\n",
    "What is the result?"
   ]
  },
  {
   "cell_type": "code",
   "execution_count": 80,
   "id": "acf78cfc",
   "metadata": {},
   "outputs": [
    {
     "ename": "SyntaxError",
     "evalue": "invalid syntax (Temp/ipykernel_13396/278109700.py, line 3)",
     "output_type": "error",
     "traceback": [
      "\u001b[1;36m  File \u001b[1;32m\"C:\\Users\\Admin\\AppData\\Local\\Temp/ipykernel_13396/278109700.py\"\u001b[1;36m, line \u001b[1;32m3\u001b[0m\n\u001b[1;33m    py test.py 10 20\u001b[0m\n\u001b[1;37m       ^\u001b[0m\n\u001b[1;31mSyntaxError\u001b[0m\u001b[1;31m:\u001b[0m invalid syntax\n"
     ]
    }
   ],
   "source": [
    "from sys import argv\n",
    "print(argv[1]+argv[2])\n",
    "py test.py 10 20"
   ]
  },
  {
   "cell_type": "code",
   "execution_count": null,
   "id": "241b87de",
   "metadata": {},
   "outputs": [],
   "source": [
    "Q.25. \n",
    "You develope a Python application to your company. You require to accept input from users and print that information to\n",
    "user screen. \n",
    "Consider the code:\n",
    "1.Print('Enter your name:')\n",
    "2.Line-1\n",
    "3.print (name), at line-1 which code we have to write?"
   ]
  },
  {
   "cell_type": "code",
   "execution_count": 11,
   "id": "0d897a6e",
   "metadata": {},
   "outputs": [
    {
     "name": "stdout",
     "output_type": "stream",
     "text": [
      "Enter your name:\n",
      "Darshana\n",
      "Darshana\n"
     ]
    }
   ],
   "source": [
    "print('Enter your name:')\n",
    "name=input()\n",
    "print(name)"
   ]
  },
  {
   "cell_type": "code",
   "execution_count": null,
   "id": "741c9999",
   "metadata": {},
   "outputs": [],
   "source": [
    "Q.26.\n",
    "Which of the following are valid statements:"
   ]
  },
  {
   "cell_type": "code",
   "execution_count": null,
   "id": "7947a049",
   "metadata": {},
   "outputs": [],
   "source": [
    "1] type('') is <class 'bool'>"
   ]
  },
  {
   "cell_type": "code",
   "execution_count": 13,
   "id": "239b42b0",
   "metadata": {},
   "outputs": [
    {
     "data": {
      "text/plain": [
       "str"
      ]
     },
     "execution_count": 13,
     "metadata": {},
     "output_type": "execute_result"
    }
   ],
   "source": [
    "type('') "
   ]
  },
  {
   "cell_type": "code",
   "execution_count": null,
   "id": "5be99853",
   "metadata": {},
   "outputs": [],
   "source": [
    "2]True and False evaluates to False ## Correct"
   ]
  },
  {
   "cell_type": "code",
   "execution_count": 14,
   "id": "c46d2e4f",
   "metadata": {},
   "outputs": [
    {
     "data": {
      "text/plain": [
       "False"
      ]
     },
     "execution_count": 14,
     "metadata": {},
     "output_type": "execute_result"
    }
   ],
   "source": [
    "True and False"
   ]
  },
  {
   "cell_type": "code",
   "execution_count": null,
   "id": "044a6b14",
   "metadata": {},
   "outputs": [],
   "source": [
    "3] True or False evaluates to False"
   ]
  },
  {
   "cell_type": "code",
   "execution_count": 15,
   "id": "6f066791",
   "metadata": {},
   "outputs": [
    {
     "data": {
      "text/plain": [
       "True"
      ]
     },
     "execution_count": 15,
     "metadata": {},
     "output_type": "execute_result"
    }
   ],
   "source": [
    "True or False "
   ]
  },
  {
   "cell_type": "code",
   "execution_count": null,
   "id": "f345a624",
   "metadata": {},
   "outputs": [],
   "source": [
    "4] 5+False evaluates to False"
   ]
  },
  {
   "cell_type": "code",
   "execution_count": 17,
   "id": "339dda11",
   "metadata": {},
   "outputs": [
    {
     "data": {
      "text/plain": [
       "5"
      ]
     },
     "execution_count": 17,
     "metadata": {},
     "output_type": "execute_result"
    }
   ],
   "source": [
    "5+False"
   ]
  },
  {
   "cell_type": "code",
   "execution_count": null,
   "id": "2152eac9",
   "metadata": {},
   "outputs": [],
   "source": [
    "5] True +1 evaluates to 2 ## Correct"
   ]
  },
  {
   "cell_type": "code",
   "execution_count": 18,
   "id": "8148f9bb",
   "metadata": {},
   "outputs": [
    {
     "data": {
      "text/plain": [
       "2"
      ]
     },
     "execution_count": 18,
     "metadata": {},
     "output_type": "execute_result"
    }
   ],
   "source": [
    " True +1 "
   ]
  },
  {
   "cell_type": "code",
   "execution_count": null,
   "id": "e151a091",
   "metadata": {},
   "outputs": [],
   "source": [
    "Q.27. Consider the code:\n",
    "print(not 0)\n",
    "print(not 10)\n",
    "print(not '')\n",
    "print(not 'durga')\n",
    "print(not None)  \n",
    "What is the result?"
   ]
  },
  {
   "cell_type": "code",
   "execution_count": 20,
   "id": "18ae209a",
   "metadata": {},
   "outputs": [
    {
     "name": "stdout",
     "output_type": "stream",
     "text": [
      "True\n",
      "False\n",
      "True\n",
      "False\n",
      "True\n"
     ]
    }
   ],
   "source": [
    "print(not 0)\n",
    "print( not 10)\n",
    "print(not '')\n",
    "print(not 'durga')\n",
    "print(not None)"
   ]
  },
  {
   "cell_type": "code",
   "execution_count": null,
   "id": "9b32d0d8",
   "metadata": {},
   "outputs": [],
   "source": [
    "Q.28.Consider the code\n",
    "l1=['sunny','bunny','chinny','vinny']\n",
    "l2=['sunny','bunny','chinny','vinny']\n",
    "print(l1 is not l2)\n",
    "print(l1=!l2)\n",
    "l1=l2\n",
    "print(l1 is not l2)\n",
    "print(l1=!l2)"
   ]
  },
  {
   "cell_type": "code",
   "execution_count": 22,
   "id": "92e4c358",
   "metadata": {},
   "outputs": [
    {
     "name": "stdout",
     "output_type": "stream",
     "text": [
      "True\n",
      "False\n",
      "False\n",
      "False\n"
     ]
    }
   ],
   "source": [
    "l1=['sunny','bunny','chinny','vinny']\n",
    "l2=['sunny','bunny','chinny','vinny']\n",
    "print(l1 is not l2)\n",
    "print(l1!=l2)\n",
    "l1=l2\n",
    "print(l1 is not l2)\n",
    "print(l1!=l2)"
   ]
  },
  {
   "cell_type": "code",
   "execution_count": null,
   "id": "0351b998",
   "metadata": {},
   "outputs": [],
   "source": [
    "Q.29. In which of the following cases we will get<class'int'> as output?"
   ]
  },
  {
   "cell_type": "code",
   "execution_count": 23,
   "id": "37a55a78",
   "metadata": {},
   "outputs": [
    {
     "name": "stdout",
     "output_type": "stream",
     "text": [
      "<class 'int'>\n"
     ]
    }
   ],
   "source": [
    "x=2**2**2\n",
    "print(type(x))"
   ]
  },
  {
   "cell_type": "code",
   "execution_count": 24,
   "id": "2155aecf",
   "metadata": {},
   "outputs": [
    {
     "name": "stdout",
     "output_type": "stream",
     "text": [
      "<class 'int'>\n"
     ]
    }
   ],
   "source": [
    "x=47\n",
    "print(type(x))"
   ]
  },
  {
   "cell_type": "code",
   "execution_count": 25,
   "id": "e6cf24de",
   "metadata": {},
   "outputs": [
    {
     "name": "stdout",
     "output_type": "stream",
     "text": [
      "<class 'float'>\n"
     ]
    }
   ],
   "source": [
    "x=47.0\n",
    "print(type(x))"
   ]
  },
  {
   "cell_type": "code",
   "execution_count": 26,
   "id": "38ecac6b",
   "metadata": {},
   "outputs": [
    {
     "name": "stdout",
     "output_type": "stream",
     "text": [
      "<class 'complex'>\n"
     ]
    }
   ],
   "source": [
    "x=10+20j\n",
    "print(type(x))"
   ]
  },
  {
   "cell_type": "code",
   "execution_count": null,
   "id": "e76d787e",
   "metadata": {},
   "outputs": [],
   "source": [
    "Q.30. Consider the code:\n",
    "    s='DURGA SOFT'\n",
    "    which of the following lines will assign 9 to variable result?"
   ]
  },
  {
   "cell_type": "code",
   "execution_count": 1,
   "id": "0210a4ec",
   "metadata": {},
   "outputs": [],
   "source": [
    " s='DURGA SOFT'"
   ]
  },
  {
   "cell_type": "code",
   "execution_count": 2,
   "id": "3dccfe1b",
   "metadata": {},
   "outputs": [],
   "source": [
    "result=len(s.lstrip())"
   ]
  },
  {
   "cell_type": "code",
   "execution_count": 3,
   "id": "e1429f6e",
   "metadata": {},
   "outputs": [],
   "source": [
    "result=len(s)"
   ]
  },
  {
   "cell_type": "code",
   "execution_count": 4,
   "id": "fd605ebf",
   "metadata": {},
   "outputs": [],
   "source": [
    "result=len(s.rstrip())"
   ]
  },
  {
   "cell_type": "code",
   "execution_count": 5,
   "id": "cd773517",
   "metadata": {},
   "outputs": [],
   "source": [
    "result=len(s.strip())"
   ]
  },
  {
   "cell_type": "code",
   "execution_count": 6,
   "id": "2d47cfa3",
   "metadata": {},
   "outputs": [],
   "source": [
    "result=len(s.replace('',''))"
   ]
  },
  {
   "cell_type": "code",
   "execution_count": null,
   "id": "e8363f19",
   "metadata": {},
   "outputs": [],
   "source": [
    "Q.31.From sys module,by using which variable, we can access command line argument?"
   ]
  },
  {
   "cell_type": "code",
   "execution_count": null,
   "id": "8461903f",
   "metadata": {},
   "outputs": [],
   "source": [
    "argv"
   ]
  },
  {
   "cell_type": "code",
   "execution_count": null,
   "id": "a4ff5425",
   "metadata": {},
   "outputs": [],
   "source": [
    "Q.32. Consider the variable declaration\n",
    "b='BANANA', which of the following lines will print'AA' to the console?"
   ]
  },
  {
   "cell_type": "code",
   "execution_count": 12,
   "id": "ee337523",
   "metadata": {},
   "outputs": [
    {
     "name": "stdout",
     "output_type": "stream",
     "text": [
      "AA\n",
      "AA\n",
      "AN\n",
      "AA\n"
     ]
    }
   ],
   "source": [
    "b='BANANA'\n",
    "print(b[3]+b[5])\n",
    "print(b[1]+b[5])\n",
    "print(b[1]+b[2])\n",
    "print(b[1]+b[3])"
   ]
  },
  {
   "cell_type": "code",
   "execution_count": null,
   "id": "d0e4bb38",
   "metadata": {},
   "outputs": [],
   "source": [
    "Q.33.\n",
    "Consider the code\n",
    "l1=['sunny','bunny','chinny','vinny']\n",
    "l2=['sunny','bunny','chinny','vinny']\n",
    "print(l1 is l2)\n",
    "print(l1==l2)\n",
    "l1=l2\n",
    "print(l1 is l2)\n",
    "print(l1==l2)"
   ]
  },
  {
   "cell_type": "code",
   "execution_count": 13,
   "id": "bbc457b8",
   "metadata": {},
   "outputs": [
    {
     "name": "stdout",
     "output_type": "stream",
     "text": [
      "False\n",
      "True\n",
      "True\n",
      "True\n"
     ]
    }
   ],
   "source": [
    "l1=['sunny','bunny','chinny','vinny']\n",
    "l2=['sunny','bunny','chinny','vinny']\n",
    "print(l1 is l2)\n",
    "print(l1==l2)\n",
    "l1=l2\n",
    "print(l1 is l2)\n",
    "print(l1==l2)"
   ]
  },
  {
   "cell_type": "code",
   "execution_count": null,
   "id": "a5ebf3a0",
   "metadata": {},
   "outputs": [],
   "source": [
    "Q.34. Consider the following code:\n",
    "v1=1\n",
    "v2=0\n",
    "v1=v1^v2\n",
    "v2=v1^v2\n",
    "v1=v1^v2\n",
    "print(v1)\n",
    "What is the result?"
   ]
  },
  {
   "cell_type": "code",
   "execution_count": 14,
   "id": "cd6a131d",
   "metadata": {},
   "outputs": [
    {
     "name": "stdout",
     "output_type": "stream",
     "text": [
      "0\n"
     ]
    }
   ],
   "source": [
    "v1=1\n",
    "v2=0\n",
    "v1=v1^v2\n",
    "v2=v1^v2\n",
    "v1=v1^v2\n",
    "print(v1)"
   ]
  },
  {
   "cell_type": "code",
   "execution_count": null,
   "id": "bfa9e6c8",
   "metadata": {},
   "outputs": [],
   "source": [
    "Q.35.\n",
    "Consider the code:\n",
    "1.count=input('Enter the number of customers of the bank:')\n",
    "2.line-1\n",
    "3.print(output)\n",
    "which code inserted at line-1 will print 20 to the console if we pass 15 as count value from the console?"
   ]
  },
  {
   "cell_type": "code",
   "execution_count": 15,
   "id": "d05bc3d1",
   "metadata": {},
   "outputs": [
    {
     "name": "stdout",
     "output_type": "stream",
     "text": [
      "Enter the number of customers of the bank:15\n",
      "20\n"
     ]
    }
   ],
   "source": [
    "count=input('Enter the number of customers of the bank:')\n",
    "output=int(count)+5\n",
    "print(output)"
   ]
  },
  {
   "cell_type": "code",
   "execution_count": null,
   "id": "7c8a138f",
   "metadata": {},
   "outputs": [],
   "source": [
    "Q.36. Consider the code:\n",
    "x='10'\n",
    "y='20'\n",
    "type(x+y)"
   ]
  },
  {
   "cell_type": "code",
   "execution_count": 16,
   "id": "bcd85b98",
   "metadata": {},
   "outputs": [
    {
     "data": {
      "text/plain": [
       "str"
      ]
     },
     "execution_count": 16,
     "metadata": {},
     "output_type": "execute_result"
    }
   ],
   "source": [
    "x='10'\n",
    "y='20'\n",
    "type(x+y)"
   ]
  },
  {
   "cell_type": "code",
   "execution_count": null,
   "id": "25b7e662",
   "metadata": {},
   "outputs": [],
   "source": [
    "Q.37. Which of the following string declaration spans more than one line and considers white space properly when the\n",
    "sring is printed to the console?"
   ]
  },
  {
   "cell_type": "code",
   "execution_count": 17,
   "id": "cd373684",
   "metadata": {},
   "outputs": [
    {
     "ename": "SyntaxError",
     "evalue": "EOL while scanning string literal (Temp/ipykernel_9908/2111381070.py, line 1)",
     "output_type": "error",
     "traceback": [
      "\u001b[1;36m  File \u001b[1;32m\"C:\\Users\\Admin\\AppData\\Local\\Temp/ipykernel_9908/2111381070.py\"\u001b[1;36m, line \u001b[1;32m1\u001b[0m\n\u001b[1;33m    s1='Bharat\\n\u001b[0m\n\u001b[1;37m                 ^\u001b[0m\n\u001b[1;31mSyntaxError\u001b[0m\u001b[1;31m:\u001b[0m EOL while scanning string literal\n"
     ]
    }
   ],
   "source": [
    "s1='Bharat\\n \n",
    "        Software\\n\n",
    "        Solutions'"
   ]
  },
  {
   "cell_type": "code",
   "execution_count": null,
   "id": "370616d5",
   "metadata": {},
   "outputs": [],
   "source": [
    "s1='Bharat\\n \n",
    "        Software\\n\n",
    "        Solutions'"
   ]
  },
  {
   "cell_type": "code",
   "execution_count": 19,
   "id": "eb4a94c3",
   "metadata": {},
   "outputs": [],
   "source": [
    "s1='''Bharat\n",
    "        Software\n",
    "        Solutions'''"
   ]
  },
  {
   "cell_type": "code",
   "execution_count": 20,
   "id": "6cfae953",
   "metadata": {},
   "outputs": [
    {
     "ename": "SyntaxError",
     "evalue": "EOL while scanning string literal (Temp/ipykernel_9908/2252396202.py, line 1)",
     "output_type": "error",
     "traceback": [
      "\u001b[1;36m  File \u001b[1;32m\"C:\\Users\\Admin\\AppData\\Local\\Temp/ipykernel_9908/2252396202.py\"\u001b[1;36m, line \u001b[1;32m1\u001b[0m\n\u001b[1;33m    s1='Bharat\u001b[0m\n\u001b[1;37m              ^\u001b[0m\n\u001b[1;31mSyntaxError\u001b[0m\u001b[1;31m:\u001b[0m EOL while scanning string literal\n"
     ]
    }
   ],
   "source": [
    "s1='Bharat\n",
    "        Software\n",
    "        Solutions\""
   ]
  },
  {
   "cell_type": "code",
   "execution_count": 21,
   "id": "d21295d1",
   "metadata": {},
   "outputs": [
    {
     "ename": "SyntaxError",
     "evalue": "EOL while scanning string literal (Temp/ipykernel_9908/1307069803.py, line 1)",
     "output_type": "error",
     "traceback": [
      "\u001b[1;36m  File \u001b[1;32m\"C:\\Users\\Admin\\AppData\\Local\\Temp/ipykernel_9908/1307069803.py\"\u001b[1;36m, line \u001b[1;32m1\u001b[0m\n\u001b[1;33m    s1=\"Bharat\u001b[0m\n\u001b[1;37m              ^\u001b[0m\n\u001b[1;31mSyntaxError\u001b[0m\u001b[1;31m:\u001b[0m EOL while scanning string literal\n"
     ]
    }
   ],
   "source": [
    "s1=\"Bharat\n",
    "        Software\n",
    "        Solutions'''"
   ]
  },
  {
   "cell_type": "code",
   "execution_count": null,
   "id": "615e163a",
   "metadata": {},
   "outputs": [],
   "source": [
    "Q.38. Consider the code:\n",
    "1.lst=[7,8,9]\n",
    "2.b=lst[:]\n",
    "3.print(b is lst)\n",
    "4.print(b ==lst)"
   ]
  },
  {
   "cell_type": "code",
   "execution_count": 26,
   "id": "4a0a196c",
   "metadata": {},
   "outputs": [
    {
     "name": "stdout",
     "output_type": "stream",
     "text": [
      "False\n",
      "True\n"
     ]
    }
   ],
   "source": [
    "lst=[7,8,9]\n",
    "b=lst[:]\n",
    "print(b is lst)\n",
    "print(b ==lst)"
   ]
  },
  {
   "cell_type": "code",
   "execution_count": null,
   "id": "e275663f",
   "metadata": {},
   "outputs": [],
   "source": [
    "Q.39. Which of the following statements are valid?"
   ]
  },
  {
   "cell_type": "code",
   "execution_count": null,
   "id": "589783ea",
   "metadata": {},
   "outputs": [],
   "source": [
    "1]The following expression evaluates to 12\n",
    "b= False+5-True+35//4"
   ]
  },
  {
   "cell_type": "code",
   "execution_count": 27,
   "id": "b5dd3285",
   "metadata": {},
   "outputs": [],
   "source": [
    "b= False+5-True+35//4"
   ]
  },
  {
   "cell_type": "code",
   "execution_count": 28,
   "id": "d7ce3f47",
   "metadata": {},
   "outputs": [
    {
     "data": {
      "text/plain": [
       "12"
      ]
     },
     "execution_count": 28,
     "metadata": {},
     "output_type": "execute_result"
    }
   ],
   "source": [
    "b"
   ]
  },
  {
   "cell_type": "code",
   "execution_count": 29,
   "id": "3ded4cc6",
   "metadata": {},
   "outputs": [],
   "source": [
    "2]S=\"Sachin Tendulkar is Cricket's great player\"\n",
    "It causes error because Double quote and single quote simultaneously."
   ]
  },
  {
   "cell_type": "code",
   "execution_count": 30,
   "id": "1ec95b27",
   "metadata": {},
   "outputs": [
    {
     "data": {
      "text/plain": [
       "\"Sachin Tendulkar is Cricket's great player\""
      ]
     },
     "execution_count": 30,
     "metadata": {},
     "output_type": "execute_result"
    }
   ],
   "source": [
    "S"
   ]
  },
  {
   "cell_type": "code",
   "execution_count": null,
   "id": "6d4ee594",
   "metadata": {},
   "outputs": [],
   "source": [
    "3]The following line will print result:4.5"
   ]
  },
  {
   "cell_type": "code",
   "execution_count": 35,
   "id": "6d23f43d",
   "metadata": {},
   "outputs": [
    {
     "name": "stdout",
     "output_type": "stream",
     "text": [
      "result: 4.5\n"
     ]
    }
   ],
   "source": [
    "print('result:',(7/2)+(False or True)+(9%3))"
   ]
  },
  {
   "cell_type": "code",
   "execution_count": null,
   "id": "dd6c24cc",
   "metadata": {},
   "outputs": [],
   "source": [
    "4]456+456.0\n",
    "type of result?"
   ]
  },
  {
   "cell_type": "code",
   "execution_count": 32,
   "id": "547f9f36",
   "metadata": {},
   "outputs": [],
   "source": [
    "a=456+456.0"
   ]
  },
  {
   "cell_type": "code",
   "execution_count": 33,
   "id": "3a85d56f",
   "metadata": {},
   "outputs": [
    {
     "data": {
      "text/plain": [
       "912.0"
      ]
     },
     "execution_count": 33,
     "metadata": {},
     "output_type": "execute_result"
    }
   ],
   "source": [
    "a"
   ]
  },
  {
   "cell_type": "code",
   "execution_count": 34,
   "id": "cccc4a74",
   "metadata": {},
   "outputs": [
    {
     "data": {
      "text/plain": [
       "float"
      ]
     },
     "execution_count": 34,
     "metadata": {},
     "output_type": "execute_result"
    }
   ],
   "source": [
    "type(a)"
   ]
  },
  {
   "cell_type": "code",
   "execution_count": null,
   "id": "8733bcc8",
   "metadata": {},
   "outputs": [],
   "source": [
    "Q.40. Which of the following code is used for this requirement?"
   ]
  },
  {
   "cell_type": "code",
   "execution_count": 37,
   "id": "21b0069b",
   "metadata": {},
   "outputs": [
    {
     "name": "stdout",
     "output_type": "stream",
     "text": [
      "Ente your college name:Deogiri College\n",
      "Enter your city:Aurangabad\n",
      "Welcome to Deogiri College n Aurangabad\n"
     ]
    }
   ],
   "source": [
    "college_name=input('Ente your college name:')\n",
    "city=input('Enter your city:')\n",
    "print('Welcome to {} n {}'.format(college_name,city))"
   ]
  },
  {
   "cell_type": "code",
   "execution_count": null,
   "id": "64746a62",
   "metadata": {},
   "outputs": [],
   "source": [
    "## This is correct requirement"
   ]
  },
  {
   "cell_type": "code",
   "execution_count": 38,
   "id": "521dee73",
   "metadata": {},
   "outputs": [
    {
     "ename": "NameError",
     "evalue": "name 'read' is not defined",
     "output_type": "error",
     "traceback": [
      "\u001b[1;31m---------------------------------------------------------------------------\u001b[0m",
      "\u001b[1;31mNameError\u001b[0m                                 Traceback (most recent call last)",
      "\u001b[1;32m~\\AppData\\Local\\Temp/ipykernel_9908/1644311600.py\u001b[0m in \u001b[0;36m<module>\u001b[1;34m\u001b[0m\n\u001b[1;32m----> 1\u001b[1;33m \u001b[0mcollege_name\u001b[0m\u001b[1;33m=\u001b[0m\u001b[0mread\u001b[0m\u001b[1;33m(\u001b[0m\u001b[1;34m'Ente your college name:'\u001b[0m\u001b[1;33m)\u001b[0m\u001b[1;33m\u001b[0m\u001b[1;33m\u001b[0m\u001b[0m\n\u001b[0m\u001b[0;32m      2\u001b[0m \u001b[0mcity\u001b[0m\u001b[1;33m=\u001b[0m\u001b[0mread\u001b[0m\u001b[1;33m(\u001b[0m\u001b[1;34m'Enter your city:'\u001b[0m\u001b[1;33m)\u001b[0m\u001b[1;33m\u001b[0m\u001b[1;33m\u001b[0m\u001b[0m\n\u001b[0;32m      3\u001b[0m \u001b[0mprint\u001b[0m\u001b[1;33m(\u001b[0m\u001b[1;34m'Welcome to {} n {}'\u001b[0m\u001b[1;33m.\u001b[0m\u001b[0mformat\u001b[0m\u001b[1;33m(\u001b[0m\u001b[0mcollege_name\u001b[0m\u001b[1;33m,\u001b[0m\u001b[0mcity\u001b[0m\u001b[1;33m)\u001b[0m\u001b[1;33m)\u001b[0m\u001b[1;33m\u001b[0m\u001b[1;33m\u001b[0m\u001b[0m\n",
      "\u001b[1;31mNameError\u001b[0m: name 'read' is not defined"
     ]
    }
   ],
   "source": [
    "college_name=read('Ente your college name:')\n",
    "city=read('Enter your city:')\n",
    "print('Welcome to {} n {}'.format(college_name,city))"
   ]
  },
  {
   "cell_type": "code",
   "execution_count": 39,
   "id": "eadd4595",
   "metadata": {},
   "outputs": [
    {
     "name": "stdout",
     "output_type": "stream",
     "text": [
      "Welcome to Ente your college name: n Enter your city:\n"
     ]
    }
   ],
   "source": [
    "college_name=str('Ente your college name:')\n",
    "city=str('Enter your city:')\n",
    "print('Welcome to {} n {}'.format(college_name,city))"
   ]
  },
  {
   "cell_type": "code",
   "execution_count": 40,
   "id": "50f0ed3a",
   "metadata": {},
   "outputs": [
    {
     "ename": "SyntaxError",
     "evalue": "invalid syntax (<string>, line 1)",
     "output_type": "error",
     "traceback": [
      "Traceback \u001b[1;36m(most recent call last)\u001b[0m:\n",
      "  File \u001b[0;32m\"C:\\Users\\Admin\\anaconda3\\lib\\site-packages\\IPython\\core\\interactiveshell.py\"\u001b[0m, line \u001b[0;32m3444\u001b[0m, in \u001b[0;35mrun_code\u001b[0m\n    exec(code_obj, self.user_global_ns, self.user_ns)\n",
      "\u001b[1;36m  File \u001b[1;32m\"C:\\Users\\Admin\\AppData\\Local\\Temp/ipykernel_9908/120455727.py\"\u001b[1;36m, line \u001b[1;32m1\u001b[1;36m, in \u001b[1;35m<module>\u001b[1;36m\u001b[0m\n\u001b[1;33m    college_name=eval('Ente your college name:')\u001b[0m\n",
      "\u001b[1;36m  File \u001b[1;32m\"<string>\"\u001b[1;36m, line \u001b[1;32m1\u001b[0m\n\u001b[1;33m    Ente your college name:\u001b[0m\n\u001b[1;37m         ^\u001b[0m\n\u001b[1;31mSyntaxError\u001b[0m\u001b[1;31m:\u001b[0m invalid syntax\n"
     ]
    }
   ],
   "source": [
    "college_name=eval('Ente your college name:')\n",
    "city=eval('Enter your city:')\n",
    "print('Welcome to {} n {}'.format(college_name,city))"
   ]
  },
  {
   "cell_type": "code",
   "execution_count": null,
   "id": "0b129e0e",
   "metadata": {},
   "outputs": [],
   "source": []
  }
 ],
 "metadata": {
  "kernelspec": {
   "display_name": "Python 3 (ipykernel)",
   "language": "python",
   "name": "python3"
  },
  "language_info": {
   "codemirror_mode": {
    "name": "ipython",
    "version": 3
   },
   "file_extension": ".py",
   "mimetype": "text/x-python",
   "name": "python",
   "nbconvert_exporter": "python",
   "pygments_lexer": "ipython3",
   "version": "3.9.7"
  }
 },
 "nbformat": 4,
 "nbformat_minor": 5
}
